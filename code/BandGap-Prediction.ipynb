{
 "cells": [
  {
   "cell_type": "code",
   "execution_count": 2,
   "metadata": {},
   "outputs": [],
   "source": [
    "from getdata import GetDataset\n",
    "import numpy as np\n",
    "import pandas as pd\n",
    "import matplotlib.pyplot as plt"
   ]
  },
  {
   "cell_type": "code",
   "execution_count": 6,
   "metadata": {},
   "outputs": [],
   "source": [
    "data,target = GetDataset(CreateDataFrame=True).Outputdata()"
   ]
  },
  {
   "cell_type": "code",
   "execution_count": 58,
   "metadata": {},
   "outputs": [],
   "source": [
    "x = np.linspace(data[0][0].min(),data[0][0].max(),900)\n",
    "data2 = np.zeros((data.shape[0],900))\n",
    "for i in range(data.shape[0]):\n",
    "    data2[i,:] = np.interp(x,data[i][0][1:],data[i][1][1:])\n",
    "\n"
   ]
  },
  {
   "cell_type": "code",
   "execution_count": 93,
   "metadata": {},
   "outputs": [],
   "source": [
    "np.sqrt(901)\n",
    "dim = int(np.sqrt(data2.shape[1]))\n",
    "DataC = np.zeros((data2.shape[0],2,dim,dim))\n",
    "\n",
    "for i in range(DataC.shape[0]):\n",
    "    DataC[i,0] = data2[i].reshape((1,dim,dim))\n",
    "    DataC[i,1] = np.gradient(data2[i]).reshape((1,dim,dim))"
   ]
  }
 ],
 "metadata": {
  "kernelspec": {
   "display_name": "ML",
   "language": "python",
   "name": "python3"
  },
  "language_info": {
   "codemirror_mode": {
    "name": "ipython",
    "version": 3
   },
   "file_extension": ".py",
   "mimetype": "text/x-python",
   "name": "python",
   "nbconvert_exporter": "python",
   "pygments_lexer": "ipython3",
   "version": "3.12.2"
  }
 },
 "nbformat": 4,
 "nbformat_minor": 2
}
