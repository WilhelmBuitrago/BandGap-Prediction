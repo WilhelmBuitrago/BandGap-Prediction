{
  "cells": [
    {
      "cell_type": "code",
      "execution_count": 1,
      "metadata": {
        "id": "5W95tuMeEVtc"
      },
      "outputs": [],
      "source": [
        "import numpy as np\n",
        "import pandas as pd\n",
        "import matplotlib.pyplot as plt\n",
        "import os\n",
        "\n",
        "from scipy.signal import savgol_filter\n",
        "from pykalman import KalmanFilter\n",
        "from getdata import GetDataset\n",
        "\n",
        "import torch\n",
        "from torch.utils.data import Dataset, DataLoader\n",
        "from torchvision import transforms\n",
        "from PIL import Image"
      ]
    },
    {
      "cell_type": "code",
      "execution_count": 2,
      "metadata": {},
      "outputs": [],
      "source": [
        "data_orig,target = GetDataset(CreateDataFrame=True).Outputdata()"
      ]
    },
    {
      "cell_type": "code",
      "execution_count": 3,
      "metadata": {},
      "outputs": [],
      "source": [
        "#Interpolacion para que los datos en x1 sean x distantes\n",
        "x_data = np.linspace(data_orig[0][0].min(),data_orig[0][0].max(),901)\n",
        "temp = np.zeros((data_orig.shape[0],901))\n",
        "for i in range(data_orig.shape[0]):\n",
        "    temp[i,:] = np.interp(x_data,data_orig[i][0][:],data_orig[i][1][:])"
      ]
    },
    {
      "cell_type": "code",
      "execution_count": 4,
      "metadata": {},
      "outputs": [],
      "source": [
        "# Creacion de arreglos matriciales 30x30 2 channels\n",
        "data = np.zeros((temp.shape[0],temp.shape[1],2))\n",
        "for i in range(data.shape[0]):\n",
        "    data[i,:,0] = savgol_filter(temp[i,:], window_length=50, polyorder=2)\n",
        "    data[i,:,1] = np.gradient(savgol_filter(data[i,:,0], window_length=50, polyorder=2))"
      ]
    },
    {
      "cell_type": "code",
      "execution_count": 5,
      "metadata": {},
      "outputs": [
        {
          "data": {
            "text/plain": [
              "tensor([2082, 2966, 2862,  ...,  847, 2232, 1707])"
            ]
          },
          "execution_count": 5,
          "metadata": {},
          "output_type": "execute_result"
        }
      ],
      "source": [
        "torch.manual_seed(42)\n",
        "shuffle_idx = torch.randperm(3090, dtype = torch.long)\n",
        "data_shuffle = data[shuffle_idx]\n",
        "target_shuffle = target[shuffle_idx]\n",
        "shuffle_idx"
      ]
    },
    {
      "cell_type": "code",
      "execution_count": 9,
      "metadata": {},
      "outputs": [
        {
          "data": {
            "image/png": "[encoded data removed]",
            "text/plain": [
              "<Figure size 300x300 with 1 Axes>"
            ]
          },
          "metadata": {},
          "output_type": "display_data"
        }
      ],
      "source": [
        "plt.figure(figsize= (3, 3))\n",
        "plt.plot(x_data, data_shuffle[3089,:,0],  color='k', linewidth=1.5)\n",
        "plt.xticks([])\n",
        "plt.yticks([])\n",
        "plt.axis('off')\n",
        "plt.tight_layout()\n"
      ]
    },
    {
      "cell_type": "markdown",
      "metadata": {},
      "source": [
        "# Mapeo de los Targets"
      ]
    },
    {
      "cell_type": "code",
      "execution_count": 126,
      "metadata": {},
      "outputs": [
        {
          "data": {
            "text/plain": [
              "3090"
            ]
          },
          "execution_count": 126,
          "metadata": {},
          "output_type": "execute_result"
        }
      ],
      "source": [
        "image_label_map = {}\n",
        "for idx, label in enumerate(target_shuffle):\n",
        "    image_label_map[idx] = label\n"
      ]
    },
    {
      "cell_type": "markdown",
      "metadata": {},
      "source": [
        "# DataLoader "
      ]
    },
    {
      "cell_type": "code",
      "execution_count": 161,
      "metadata": {},
      "outputs": [],
      "source": [
        "class CustomImageDataset(Dataset):\n",
        "    def __init__(self, root_dir, root_dir_derivative, image_label_map, transform=None):\n",
        "        self.root_dir = root_dir\n",
        "        self.root_dir_derivative = root_dir_derivative\n",
        "        self.image_label_map = image_label_map\n",
        "        self.transform = transform\n",
        "\n",
        "        self.image_files = [file for file in os.listdir(root_dir)]\n",
        "        self.image_files.sort() \n",
        "        self.image_files_derivative = [f\"{file.split('.')[0]}_derivada.png\" for file in self.image_files]\n",
        "\n",
        "    def __len__(self):\n",
        "        return len(self.image_files)\n",
        "\n",
        "    def __getitem__(self, idx):\n",
        "        img_name = os.path.join(self.root_dir, self.image_files[idx])\n",
        "        img_name_derivative = os.path.join(self.root_dir_derivative, self.image_files_derivative[idx])\n",
        "\n",
        "        image = Image.open(img_name)\n",
        "        image_derivative = Image.open(img_name_derivative)\n",
        "\n",
        "        if self.transform:\n",
        "            image = self.transform(image)\n",
        "            image_derivative = self.transform(image_derivative)\n",
        "\n",
        "        image_combined = torch.cat((image[0:1, :, :], image_derivative[0:1, :, :]), dim=0)\n",
        "\n",
        "        label = self.image_label_map[int(self.image_files[idx].split('.')[0])]\n",
        "\n",
        "        label = torch.tensor(label, dtype=torch.float)\n",
        "        \n",
        "        filename = int(self.image_files[idx].split('.')[0])\n",
        "\n",
        "        return image_combined, label, filename\n",
        "\n",
        "transform = transforms.Compose([\n",
        "    transforms.Resize((64, 64)),\n",
        "    transforms.ToTensor(),\n",
        "    transforms.Lambda(lambda x: x[:2, :, :]), \n",
        "    transforms.Normalize((0.5, 0.5), (0.5, 0.5)),  \n",
        "    transforms.Lambda(lambda x: (x > 0.64).float()) \n",
        "])\n",
        "\n",
        "dataset = CustomImageDataset(\n",
        "    root_dir='Dataset/img/imagenes',\n",
        "    root_dir_derivative='Dataset/img/imagenes_derivate',\n",
        "    image_label_map=image_label_map,\n",
        "    transform=transform,\n",
        ")\n",
        "\n",
        "train_size = int(0.8 * len(dataset))\n",
        "test_size = len(dataset) - train_size\n",
        "indices = list(range(len(dataset)))\n",
        "\n",
        "train_indices = indices[:train_size]\n",
        "test_indices = indices[train_size:]\n",
        "\n",
        "train_dataset = torch.utils.data.Subset(dataset, train_indices)\n",
        "test_dataset = torch.utils.data.Subset(dataset, test_indices)\n",
        "\n",
        "train_loader = DataLoader(train_dataset, batch_size=500, shuffle=False)\n",
        "test_loader = DataLoader(test_dataset, batch_size=500, shuffle=False)"
      ]
    },
    {
      "cell_type": "code",
      "execution_count": 163,
      "metadata": {},
      "outputs": [],
      "source": [
        "transform2 = transforms.Compose([\n",
        "    transforms.Resize((64, 64)),\n",
        "    transforms.ToTensor(),\n",
        "    transforms.Lambda(lambda x: x[:2, :, :]),  # Tomar solo los primeros dos canales\n",
        "    transforms.Normalize((0.5, 0.5), (0.5, 0.5)),\n",
        "    transforms.Lambda(lambda x: (x < 0.64).float())  \n",
        "])\n",
        "\n",
        "dataset2 = CustomImageDataset(\n",
        "    root_dir='Dataset/img/imagenes',\n",
        "    root_dir_derivative='Dataset/img/imagenes_derivate',\n",
        "    image_label_map=image_label_map,\n",
        "    transform= transform2,\n",
        ")\n",
        "\n",
        "train_size = int(0.8 * len(dataset))\n",
        "test_size = len(dataset) - train_size\n",
        "indices = list(range(len(dataset)))\n",
        "\n",
        "train_indices = indices[:train_size]\n",
        "test_indices = indices[train_size:]\n",
        "\n",
        "train_dataset2 = torch.utils.data.Subset(dataset2, train_indices)\n",
        "test_dataset2 = torch.utils.data.Subset(dataset2, test_indices)\n",
        "\n",
        "train_loader2 = DataLoader(train_dataset2, batch_size= 500, shuffle=False)\n",
        "test_loader2 = DataLoader(test_dataset2, batch_size=500, shuffle=False)"
      ]
    },
    {
      "cell_type": "code",
      "execution_count": 135,
      "metadata": {},
      "outputs": [
        {
          "data": {
            "text/plain": [
              "3.37"
            ]
          },
          "execution_count": 135,
          "metadata": {},
          "output_type": "execute_result"
        }
      ],
      "source": [
        "image_label_map[988]"
      ]
    },
    {
      "cell_type": "code",
      "execution_count": 136,
      "metadata": {},
      "outputs": [
        {
          "data": {
            "text/plain": [
              "(tensor([[[1., 1., 1.,  ..., 1., 1., 1.],\n",
              "          [1., 1., 1.,  ..., 1., 1., 1.],\n",
              "          [1., 1., 1.,  ..., 1., 1., 1.],\n",
              "          ...,\n",
              "          [1., 1., 1.,  ..., 1., 1., 1.],\n",
              "          [1., 1., 1.,  ..., 1., 1., 1.],\n",
              "          [1., 1., 1.,  ..., 1., 1., 1.]],\n",
              " \n",
              "         [[1., 1., 1.,  ..., 1., 1., 1.],\n",
              "          [1., 1., 1.,  ..., 1., 1., 1.],\n",
              "          [1., 1., 1.,  ..., 1., 1., 1.],\n",
              "          ...,\n",
              "          [1., 1., 1.,  ..., 1., 1., 1.],\n",
              "          [1., 1., 1.,  ..., 1., 1., 1.],\n",
              "          [1., 1., 1.,  ..., 1., 1., 1.]]]),\n",
              " tensor(3.3700),\n",
              " 988)"
            ]
          },
          "execution_count": 136,
          "metadata": {},
          "output_type": "execute_result"
        }
      ],
      "source": [
        "test_dataset.__getitem__(605)\n"
      ]
    },
    {
      "cell_type": "markdown",
      "metadata": {},
      "source": [
        "## Visualización \n"
      ]
    },
    {
      "cell_type": "code",
      "execution_count": 123,
      "metadata": {},
      "outputs": [
        {
          "name": "stdout",
          "output_type": "stream",
          "text": [
            "Forma del tensor de imagen: torch.Size([2, 64, 64])\n",
            "Nombre de la imagen: 988.png \n"
          ]
        },
        {
          "data": {
            "image/png": "[encoded data removed]",
            "text/plain": [
              "<Figure size 640x480 with 4 Axes>"
            ]
          },
          "metadata": {},
          "output_type": "display_data"
        }
      ],
      "source": [
        "magen,_ , img = test_dataset.__getitem__(605)\n",
        "magen2, _ , img2 = test_dataset2.__getitem__(605)\n",
        "\n",
        "print(\"Forma del tensor de imagen:\", magen.shape)\n",
        "\n",
        "magen_numpy = magen.numpy()\n",
        "magen2_numpy = magen2.numpy()\n",
        "print(f'Nombre de la imagen: {img2}.png ')\n",
        "fig, axs = plt.subplots(2, 2)\n",
        "axs[0][0].imshow(magen_numpy[0, :, :], cmap='gray')  \n",
        "axs[0][0].set_title(\"Imagen Original\")\n",
        "axs[0][0].axis('off')\n",
        "\n",
        "axs[0][1].imshow(magen_numpy[1, :, :], cmap='gray')  \n",
        "axs[0][1].set_title(\"Imagen derivada\")\n",
        "axs[0][1].axis('off')\n",
        "\n",
        "axs[1][0].imshow(magen2_numpy[0, :, :], cmap='gray')  \n",
        "axs[1][0].set_title(\"Imagen Original\")\n",
        "axs[1][0].axis('off')\n",
        "\n",
        "axs[1][1].imshow(magen2_numpy[1, :, :], cmap='gray')  \n",
        "axs[1][1].set_title(\"Imagen derivada\")\n",
        "axs[1][1].axis('off')\n",
        "\n",
        "plt.show()\n"
      ]
    },
    {
      "cell_type": "markdown",
      "metadata": {},
      "source": [
        "# CNN y Entrenamiento"
      ]
    },
    {
      "cell_type": "code",
      "execution_count": 164,
      "metadata": {},
      "outputs": [
        {
          "name": "stdout",
          "output_type": "stream",
          "text": [
            "Epoch [1/50], Loss: 6.894876289367676\n",
            "Epoch [2/50], Loss: 4.395724678039551\n",
            "Epoch [3/50], Loss: 1.8495326519012452\n",
            "Epoch [4/50], Loss: 0.6592052698135376\n",
            "Epoch [5/50], Loss: 0.4915377378463745\n",
            "Epoch [6/50], Loss: 0.47681139707565307\n",
            "Epoch [7/50], Loss: 0.47016398310661317\n",
            "Epoch [8/50], Loss: 0.46417367458343506\n",
            "Epoch [9/50], Loss: 0.4584510803222656\n",
            "Epoch [10/50], Loss: 0.4529391825199127\n",
            "Epoch [11/50], Loss: 0.44761861562728883\n",
            "Epoch [12/50], Loss: 0.44243093132972716\n",
            "Epoch [13/50], Loss: 0.43734262585639955\n",
            "Epoch [14/50], Loss: 0.4323891520500183\n",
            "Epoch [15/50], Loss: 0.4276489675045013\n",
            "Epoch [16/50], Loss: 0.4231129586696625\n",
            "Epoch [17/50], Loss: 0.4187521278858185\n",
            "Epoch [18/50], Loss: 0.4145132124423981\n",
            "Epoch [19/50], Loss: 0.41039350628852844\n",
            "Epoch [20/50], Loss: 0.40640961527824404\n",
            "Epoch [21/50], Loss: 0.40253137350082396\n",
            "Epoch [22/50], Loss: 0.39880581498146056\n",
            "Epoch [23/50], Loss: 0.39525089263916013\n",
            "Epoch [24/50], Loss: 0.391833508014679\n",
            "Epoch [25/50], Loss: 0.38853907585144043\n",
            "Epoch [26/50], Loss: 0.38535759449005125\n",
            "Epoch [27/50], Loss: 0.3822783350944519\n",
            "Epoch [28/50], Loss: 0.37927629351615905\n",
            "Epoch [29/50], Loss: 0.37636518478393555\n",
            "Epoch [30/50], Loss: 0.37356252074241636\n",
            "Epoch [31/50], Loss: 0.37084506154060365\n",
            "Epoch [32/50], Loss: 0.3682051122188568\n",
            "Epoch [33/50], Loss: 0.36563450694084165\n",
            "Epoch [34/50], Loss: 0.36312375664711\n",
            "Epoch [35/50], Loss: 0.3606902241706848\n",
            "Epoch [36/50], Loss: 0.35834811329841615\n",
            "Epoch [37/50], Loss: 0.35608304738998414\n",
            "Epoch [38/50], Loss: 0.3539056718349457\n",
            "Epoch [39/50], Loss: 0.3518143355846405\n"
          ]
        }
      ],
      "source": [
        "import torch\n",
        "import torch.nn as nn\n",
        "import torch.optim as optim\n",
        "\n",
        "import torch.nn.functional as F\n",
        "\n",
        "class CNN(nn.Module):\n",
        "    def __init__(self):\n",
        "        super(CNN, self).__init__()\n",
        "        self.conv1 = nn.Conv2d(2, 32, kernel_size=3, stride=1, padding=1) #64x64\n",
        "        self.relu1 = nn.ReLU()\n",
        "        self.pool1 = nn.MaxPool2d(kernel_size=2, stride=2) #32x32\n",
        "        self.conv2 = nn.Conv2d(32, 64, kernel_size=3, stride=1, padding=1) #32x32\n",
        "        self.relu2 = nn.ReLU()\n",
        "        self.pool2 = nn.MaxPool2d(kernel_size=2, stride=2) #16x16\n",
        "        self.fc1 = nn.Linear(64 * 16 * 16, 128)\n",
        "        self.relu3 = nn.ReLU()\n",
        "        self.fc2 = nn.Linear(128, 1) \n",
        "        \n",
        "    def forward(self, x):\n",
        "        x = self.conv1(x)\n",
        "        x = self.relu1(x)\n",
        "        x = self.pool1(x)\n",
        "        x = self.conv2(x)\n",
        "        x = self.relu2(x)\n",
        "        x = self.pool2(x)\n",
        "        x = x.view(-1, 64 * 16 * 16)\n",
        "        x = self.fc1(x)\n",
        "        x = self.relu3(x)\n",
        "        x = self.fc2(x)\n",
        "        return x\n",
        "    \n",
        "def train(modelo, train_loader, criterion, optimizer, epochs, lr):\n",
        "        \n",
        "        optimizer = optimizer(modelo.parameters(), lr=lr)\n",
        "        losses = []\n",
        "        for epoch in range(epochs):\n",
        "            running_loss = 0.0\n",
        "            for i, (inputs, labels, _ ) in enumerate(train_loader, 0):\n",
        "                # Mover los datos a CUDA\n",
        "                inputs, labels = inputs.to(device), labels.to(device)\n",
        "\n",
        "                # Forward pass\n",
        "                outputs = model(inputs)\n",
        "                loss = criterion(outputs, labels.view(-1, 1).float())\n",
        "\n",
        "                # Backward pass y optimización\n",
        "                optimizer.zero_grad()\n",
        "                loss.backward()\n",
        "                optimizer.step()\n",
        "\n",
        "                running_loss += loss.item()\n",
        "\n",
        "            epoch_loss = running_loss / len(train_loader)\n",
        "            losses.append(epoch_loss)\n",
        "            print(f'Epoch [{epoch + 1}/{epochs}], Loss: {epoch_loss}')\n",
        "        return losses\n",
        "\n",
        "\n",
        "device = torch.device(\"cuda\" if torch.cuda.is_available() else \"cpu\")   \n",
        "\n",
        "model = CNN()\n",
        "\n",
        "model.to(device)\n",
        "loss = train(model, train_loader2, nn.MSELoss(), optim.SGD, epochs= 50, lr=0.001)\n"
      ]
    },
    {
      "cell_type": "code",
      "execution_count": null,
      "metadata": {},
      "outputs": [],
      "source": [
        "modelo2 = CNN()\n",
        "modelo2.to(device)\n",
        "loss2 = train(modelo2, train_loader, nn.MSELoss(), optim.SGD, epochs= 50, lr=0.001)"
      ]
    },
    {
      "cell_type": "markdown",
      "metadata": {},
      "source": [
        "## Prueba con el Test "
      ]
    },
    {
      "cell_type": "code",
      "execution_count": 157,
      "metadata": {},
      "outputs": [
        {
          "name": "stdout",
          "output_type": "stream",
          "text": [
            "Predicción de Bandgap para el 802: 2.6819427013397217\n",
            "BandGap original:  3.36\n",
            "BandGap :  802\n"
          ]
        },
        {
          "data": {
            "image/png": "[encoded data removed]",
            "text/plain": [
              "<Figure size 1000x500 with 2 Axes>"
            ]
          },
          "metadata": {},
          "output_type": "display_data"
        }
      ],
      "source": [
        "image, label, di = test_dataset2.__getitem__(400)\n",
        "device = torch.device(\"cuda\" if torch.cuda.is_available() else \"cpu\")\n",
        "image = image.to(device)\n",
        "\n",
        "model = model.to(device)\n",
        "model.eval()  \n",
        "with torch.no_grad():\n",
        "    outputs = model(image)\n",
        "\n",
        "predicted_bandgap = outputs.mean().item()\n",
        "\n",
        "print(f\"Predicción de Bandgap para el {di}:\", predicted_bandgap)\n",
        "print('BandGap original: ', target_shuffle[di])\n",
        "print('BandGap : ', di)\n",
        "\n",
        "ID = di\n",
        "fig, axs = plt.subplots(1, 2, figsize=(10, 5))\n",
        "\n",
        "axs[0].plot(x_data, data_shuffle[ID, :, 0], color='k')\n",
        "axs[0].scatter(target_shuffle[ID], 0, color='blue', label=f'Original', alpha=0.7)\n",
        "axs[0].scatter(predicted_bandgap, 0, color='red',  label=f'Prediccion', alpha=0.7)\n",
        "axs[0].set_title('Normal')\n",
        "\n",
        "axs[1].plot(x_data, data_shuffle[ID, :, 1], color='k')\n",
        "axs[1].scatter(target_shuffle[ID], 0, color='blue', label=f'Original', alpha=0.8)\n",
        "axs[1].scatter(predicted_bandgap, 0, color='red', label=f'Prediccion', alpha=0.8)\n",
        "axs[1].set_title('Derivada')\n",
        "\n",
        "\n",
        "\n",
        "axs[0].legend()\n",
        "axs[1].legend()\n",
        "\n",
        "fig.suptitle(f'Imagen {di}.png - Target {target_shuffle[ID]} - Predicción  {predicted_bandgap:.2f}')\n",
        "plt.tight_layout()\n",
        "plt.show()\n",
        "\n"
      ]
    },
    {
      "cell_type": "code",
      "execution_count": 158,
      "metadata": {},
      "outputs": [
        {
          "data": {
            "text/plain": [
              "3.36"
            ]
          },
          "execution_count": 158,
          "metadata": {},
          "output_type": "execute_result"
        }
      ],
      "source": [
        "image_label_map[di]"
      ]
    },
    {
      "cell_type": "code",
      "execution_count": 145,
      "metadata": {},
      "outputs": [
        {
          "data": {
            "image/png": "[encoded data removed]",
            "text/plain": [
              "<Figure size 640x480 with 2 Axes>"
            ]
          },
          "metadata": {},
          "output_type": "display_data"
        }
      ],
      "source": [
        "image_cpu = image.cpu()  \n",
        "photo = image_cpu.numpy()\n",
        "\n",
        "fig, axs = plt.subplots(1, 2)\n",
        "axs[0].imshow(photo[0, :, :], cmap='gray')  \n",
        "axs[0].set_title(\"Imagen Original\")\n",
        "axs[0].axis('off')\n",
        "\n",
        "axs[1].imshow(photo[1, :, :], cmap='gray')  \n",
        "axs[1].set_title(\"derivada\")\n",
        "axs[1].axis('off')\n",
        "\n",
        "plt.show()\n"
      ]
    },
    {
      "cell_type": "markdown",
      "metadata": {},
      "source": [
        "# Metricas"
      ]
    },
    {
      "cell_type": "code",
      "execution_count": 141,
      "metadata": {},
      "outputs": [],
      "source": [
        "import torch\n",
        "import numpy as np\n",
        "from sklearn.metrics import mean_absolute_error, mean_squared_error, r2_score\n",
        "\n",
        "def compute_regression_metrics(model, data_loader):\n",
        "    model.eval()\n",
        "    true_labels = []\n",
        "    predicted_labels = []\n",
        "\n",
        "    with torch.no_grad():\n",
        "        for inputs, labels, _ in data_loader:\n",
        "            inputs = inputs.to(device)  # Mover datos a la GPU\n",
        "            outputs = model(inputs)\n",
        "            true_labels.extend(labels.cpu().numpy())\n",
        "            predicted_labels.extend(outputs.cpu().numpy())\n",
        "\n",
        "    true_labels = np.array(true_labels)\n",
        "    predicted_labels = np.array(predicted_labels)\n",
        "\n",
        "    # Calcular las métricas de regresión\n",
        "    mae = mean_absolute_error(true_labels, predicted_labels)\n",
        "    mse = mean_squared_error(true_labels, predicted_labels)\n",
        "    rmse = np.sqrt(mse)\n",
        "    r2 = r2_score(true_labels, predicted_labels)\n",
        "\n",
        "    print(\"Mean Absolute Error (MAE):\", mae)\n",
        "    print(\"Mean Squared Error (MSE):\", mse)\n",
        "    print(\"Root Mean Squared Error (RMSE):\", rmse)\n",
        "    print(\"R^2 Score:\", r2)\n",
        "\n",
        "    return mae, mse, rmse, r2\n"
      ]
    },
    {
      "cell_type": "code",
      "execution_count": 147,
      "metadata": {},
      "outputs": [
        {
          "name": "stdout",
          "output_type": "stream",
          "text": [
            "Mean Absolute Error (MAE): 0.5863583\n",
            "Mean Squared Error (MSE): 0.4238454\n",
            "Root Mean Squared Error (RMSE): 0.6510341\n",
            "R^2 Score: -0.0019578248836527035\n"
          ]
        }
      ],
      "source": [
        "mae, mse, rmse, r2 = compute_regression_metrics(model, test_loader2)"
      ]
    }
  ],
  "metadata": {
    "colab": {
      "provenance": []
    },
    "kernelspec": {
      "display_name": "Python 3",
      "name": "python3"
    },
    "language_info": {
      "codemirror_mode": {
        "name": "ipython",
        "version": 3
      },
      "file_extension": ".py",
      "mimetype": "text/x-python",
      "name": "python",
      "nbconvert_exporter": "python",
      "pygments_lexer": "ipython3",
      "version": "3.11.8"
    }
  },
  "nbformat": 4,
  "nbformat_minor": 0
}
