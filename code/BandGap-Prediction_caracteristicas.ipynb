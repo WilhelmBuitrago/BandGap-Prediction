{
 "cells": [
  {
   "cell_type": "code",
   "execution_count": 1,
   "metadata": {},
   "outputs": [],
   "source": [
    "from getdata import GetDataset\n",
    "import numpy as np\n",
    "import pandas as pd\n",
    "import matplotlib.pyplot as plt"
   ]
  },
  {
   "cell_type": "code",
   "execution_count": 2,
   "metadata": {},
   "outputs": [],
   "source": [
    "data,target = GetDataset(CreateDataFrame=True).Outputdata()"
   ]
  },
  {
   "cell_type": "code",
   "execution_count": 3,
   "metadata": {},
   "outputs": [],
   "source": [
    "x = np.linspace(data[0][0].min(),data[0][0].max(),901)\n",
    "data2 = np.zeros((data.shape[0],901))\n",
    "for i in range(data.shape[0]):\n",
    "    data2[i,:] = np.interp(x,data[i][0],data[i][1])"
   ]
  },
  {
   "cell_type": "code",
   "execution_count": 4,
   "metadata": {},
   "outputs": [
    {
     "data": {
      "text/plain": [
       "[<matplotlib.lines.Line2D at 0x28a8249fe90>]"
      ]
     },
     "execution_count": 4,
     "metadata": {},
     "output_type": "execute_result"
    },
    {
     "data": {
      "image/png": "[encoded data removed]",
      "text/plain": [
       "<Figure size 640x480 with 1 Axes>"
      ]
     },
     "metadata": {},
     "output_type": "display_data"
    }
   ],
   "source": [
    "plt.plot(x,data2[600])\n",
    "plt.plot(data[600][0],data[600][1])"
   ]
  },
  {
   "cell_type": "code",
   "execution_count": 5,
   "metadata": {},
   "outputs": [],
   "source": [
    "from sklearn.model_selection import train_test_split\n",
    "from sklearn.model_selection import GridSearchCV, RandomizedSearchCV\n",
    "from sklearn.ensemble import RandomForestRegressor\n",
    "from sklearn.tree import DecisionTreeRegressor\n",
    "from sklearn.neural_network import MLPRegressor\n",
    "from sklearn.linear_model import LinearRegression,LogisticRegression\n",
    "from sklearn.svm import SVR\n",
    "from sklearn.ensemble import GradientBoostingRegressor\n",
    "from sklearn.metrics import make_scorer, mean_squared_error, r2_score, mean_absolute_error, max_error"
   ]
  },
  {
   "cell_type": "markdown",
   "metadata": {},
   "source": [
    "Scorer"
   ]
  },
  {
   "cell_type": "code",
   "execution_count": 6,
   "metadata": {},
   "outputs": [],
   "source": [
    "MSE_scorer = make_scorer(mean_squared_error,greater_is_better=False)"
   ]
  },
  {
   "cell_type": "code",
   "execution_count": 7,
   "metadata": {},
   "outputs": [],
   "source": [
    "def TranformData(data):\n",
    "    datatrans = np.zeros((data.shape[0],12))\n",
    "    for i,element in enumerate(data):\n",
    "        # 1. Valor máximo de la curva\n",
    "        valor_maximo = np.max(element)\n",
    "        # 2. Área bajo la curva (usando la regla del trapecio)\n",
    "        area_bajo_curva = np.trapz(element)\n",
    "\n",
    "        # 3. Tiempo de subida\n",
    "        tiempo_de_subida = np.argmax(element)\n",
    "\n",
    "        # 4. Tiempo de decaimiento\n",
    "        tiempo_de_decaimiento = len(element) - tiempo_de_subida\n",
    "\n",
    "        # 5. Tiempo medio de vida\n",
    "        tiempo_medio_vida = (tiempo_de_subida + tiempo_de_decaimiento) / 2\n",
    "\n",
    "        # 6. Pendiente máxima\n",
    "        pendiente_maxima = np.max(np.gradient(element))\n",
    "\n",
    "        # 7. Pendiente mínima\n",
    "        pendiente_minima = np.min(np.gradient(element))\n",
    "\n",
    "        # 8. Pendiente promedio\n",
    "        pendiente_promedio = np.mean(np.gradient(element))\n",
    "\n",
    "\n",
    "        # 9. Valor medio\n",
    "        valor_medio = np.mean(element)\n",
    "\n",
    "        # 10. Desviación estándar\n",
    "        desviacion_estandar = np.std(element)\n",
    "\n",
    "        # 11. Asimetría\n",
    "        asimetria = np.mean((element - valor_medio) ** 3) / (np.std(element) ** 3)\n",
    "\n",
    "        # 12. Curtosis\n",
    "        curtosis = np.mean((element - valor_medio) ** 4) / (np.std(element) ** 4)\n",
    "\n",
    "        dat = np.array([valor_maximo,area_bajo_curva,tiempo_de_subida,tiempo_de_decaimiento,tiempo_medio_vida,pendiente_maxima,pendiente_minima,pendiente_promedio,valor_medio,desviacion_estandar,asimetria,curtosis]).reshape(1,12)\n",
    "        datatrans[i,:] = dat[:]\n",
    "    columns = ['Valor_Maximo','ABC','Timp_Subida','Timp_Bajada','Timp_Med','Pendiente_Max','Pendiente_Min','Pendiente_Med','Valor_Medio','Desv_est','Asimetria','Curtosis']\n",
    "    datat = pd.DataFrame(datatrans,columns=columns)\n",
    "    return datat\n",
    "\n",
    "new_data_frame = TranformData(data2)\n",
    "new_data_array = np.array(new_data_frame)"
   ]
  },
  {
   "cell_type": "code",
   "execution_count": 25,
   "metadata": {},
   "outputs": [
    {
     "data": {
      "text/html": [
       "<div>\n",
       "<style scoped>\n",
       "    .dataframe tbody tr th:only-of-type {\n",
       "        vertical-align: middle;\n",
       "    }\n",
       "\n",
       "    .dataframe tbody tr th {\n",
       "        vertical-align: top;\n",
       "    }\n",
       "\n",
       "    .dataframe thead th {\n",
       "        text-align: right;\n",
       "    }\n",
       "</style>\n",
       "<table border=\"1\" class=\"dataframe\">\n",
       "  <thead>\n",
       "    <tr style=\"text-align: right;\">\n",
       "      <th></th>\n",
       "      <th>Valor_Maximo</th>\n",
       "      <th>ABC</th>\n",
       "      <th>Timp_Subida</th>\n",
       "      <th>Timp_Bajada</th>\n",
       "      <th>Timp_Med</th>\n",
       "      <th>Pendiente_Max</th>\n",
       "      <th>Pendiente_Min</th>\n",
       "      <th>Pendiente_Med</th>\n",
       "      <th>Valor_Medio</th>\n",
       "      <th>Desv_est</th>\n",
       "      <th>Asimetria</th>\n",
       "      <th>Curtosis</th>\n",
       "    </tr>\n",
       "  </thead>\n",
       "  <tbody>\n",
       "    <tr>\n",
       "      <th>count</th>\n",
       "      <td>3090.000000</td>\n",
       "      <td>3.090000e+03</td>\n",
       "      <td>3090.000000</td>\n",
       "      <td>3090.000000</td>\n",
       "      <td>3090.0</td>\n",
       "      <td>3090.000000</td>\n",
       "      <td>3090.000000</td>\n",
       "      <td>3090.000000</td>\n",
       "      <td>3090.000000</td>\n",
       "      <td>3090.000000</td>\n",
       "      <td>3090.000000</td>\n",
       "      <td>3090.000000</td>\n",
       "    </tr>\n",
       "    <tr>\n",
       "      <th>mean</th>\n",
       "      <td>1202.183193</td>\n",
       "      <td>3.662693e+05</td>\n",
       "      <td>751.368285</td>\n",
       "      <td>149.631715</td>\n",
       "      <td>450.5</td>\n",
       "      <td>40.197848</td>\n",
       "      <td>-44.595393</td>\n",
       "      <td>0.786947</td>\n",
       "      <td>406.911891</td>\n",
       "      <td>382.481104</td>\n",
       "      <td>0.671907</td>\n",
       "      <td>2.608289</td>\n",
       "    </tr>\n",
       "    <tr>\n",
       "      <th>std</th>\n",
       "      <td>1001.713605</td>\n",
       "      <td>3.159178e+05</td>\n",
       "      <td>89.153203</td>\n",
       "      <td>89.153203</td>\n",
       "      <td>0.0</td>\n",
       "      <td>163.138313</td>\n",
       "      <td>121.380720</td>\n",
       "      <td>0.696142</td>\n",
       "      <td>350.908656</td>\n",
       "      <td>326.911142</td>\n",
       "      <td>0.610922</td>\n",
       "      <td>7.755203</td>\n",
       "    </tr>\n",
       "    <tr>\n",
       "      <th>min</th>\n",
       "      <td>16.068455</td>\n",
       "      <td>2.896662e+03</td>\n",
       "      <td>0.000000</td>\n",
       "      <td>1.000000</td>\n",
       "      <td>450.5</td>\n",
       "      <td>0.264611</td>\n",
       "      <td>-4529.952143</td>\n",
       "      <td>-2.117993</td>\n",
       "      <td>3.242831</td>\n",
       "      <td>3.552618</td>\n",
       "      <td>-0.210522</td>\n",
       "      <td>1.282336</td>\n",
       "    </tr>\n",
       "    <tr>\n",
       "      <th>25%</th>\n",
       "      <td>533.233176</td>\n",
       "      <td>1.359099e+05</td>\n",
       "      <td>705.000000</td>\n",
       "      <td>169.000000</td>\n",
       "      <td>450.5</td>\n",
       "      <td>9.284539</td>\n",
       "      <td>-49.652105</td>\n",
       "      <td>0.397551</td>\n",
       "      <td>151.137491</td>\n",
       "      <td>156.776614</td>\n",
       "      <td>0.408608</td>\n",
       "      <td>1.656719</td>\n",
       "    </tr>\n",
       "    <tr>\n",
       "      <th>50%</th>\n",
       "      <td>909.313800</td>\n",
       "      <td>2.757352e+05</td>\n",
       "      <td>713.000000</td>\n",
       "      <td>188.000000</td>\n",
       "      <td>450.5</td>\n",
       "      <td>19.219254</td>\n",
       "      <td>-24.893552</td>\n",
       "      <td>0.611389</td>\n",
       "      <td>306.543135</td>\n",
       "      <td>280.524811</td>\n",
       "      <td>0.485585</td>\n",
       "      <td>1.873081</td>\n",
       "    </tr>\n",
       "    <tr>\n",
       "      <th>75%</th>\n",
       "      <td>1628.887150</td>\n",
       "      <td>5.225830e+05</td>\n",
       "      <td>732.000000</td>\n",
       "      <td>196.000000</td>\n",
       "      <td>450.5</td>\n",
       "      <td>41.592740</td>\n",
       "      <td>-13.402031</td>\n",
       "      <td>0.958095</td>\n",
       "      <td>580.429303</td>\n",
       "      <td>530.057951</td>\n",
       "      <td>0.706357</td>\n",
       "      <td>2.393365</td>\n",
       "    </tr>\n",
       "    <tr>\n",
       "      <th>max</th>\n",
       "      <td>9702.678349</td>\n",
       "      <td>3.067414e+06</td>\n",
       "      <td>900.000000</td>\n",
       "      <td>901.000000</td>\n",
       "      <td>450.5</td>\n",
       "      <td>7282.490662</td>\n",
       "      <td>-0.014624</td>\n",
       "      <td>8.420333</td>\n",
       "      <td>3407.538707</td>\n",
       "      <td>3080.809199</td>\n",
       "      <td>16.942606</td>\n",
       "      <td>416.819460</td>\n",
       "    </tr>\n",
       "  </tbody>\n",
       "</table>\n",
       "</div>"
      ],
      "text/plain": [
       "       Valor_Maximo           ABC  Timp_Subida  Timp_Bajada  Timp_Med  \\\n",
       "count   3090.000000  3.090000e+03  3090.000000  3090.000000    3090.0   \n",
       "mean    1202.183193  3.662693e+05   751.368285   149.631715     450.5   \n",
       "std     1001.713605  3.159178e+05    89.153203    89.153203       0.0   \n",
       "min       16.068455  2.896662e+03     0.000000     1.000000     450.5   \n",
       "25%      533.233176  1.359099e+05   705.000000   169.000000     450.5   \n",
       "50%      909.313800  2.757352e+05   713.000000   188.000000     450.5   \n",
       "75%     1628.887150  5.225830e+05   732.000000   196.000000     450.5   \n",
       "max     9702.678349  3.067414e+06   900.000000   901.000000     450.5   \n",
       "\n",
       "       Pendiente_Max  Pendiente_Min  Pendiente_Med  Valor_Medio     Desv_est  \\\n",
       "count    3090.000000    3090.000000    3090.000000  3090.000000  3090.000000   \n",
       "mean       40.197848     -44.595393       0.786947   406.911891   382.481104   \n",
       "std       163.138313     121.380720       0.696142   350.908656   326.911142   \n",
       "min         0.264611   -4529.952143      -2.117993     3.242831     3.552618   \n",
       "25%         9.284539     -49.652105       0.397551   151.137491   156.776614   \n",
       "50%        19.219254     -24.893552       0.611389   306.543135   280.524811   \n",
       "75%        41.592740     -13.402031       0.958095   580.429303   530.057951   \n",
       "max      7282.490662      -0.014624       8.420333  3407.538707  3080.809199   \n",
       "\n",
       "         Asimetria     Curtosis  \n",
       "count  3090.000000  3090.000000  \n",
       "mean      0.671907     2.608289  \n",
       "std       0.610922     7.755203  \n",
       "min      -0.210522     1.282336  \n",
       "25%       0.408608     1.656719  \n",
       "50%       0.485585     1.873081  \n",
       "75%       0.706357     2.393365  \n",
       "max      16.942606   416.819460  "
      ]
     },
     "execution_count": 25,
     "metadata": {},
     "output_type": "execute_result"
    }
   ],
   "source": [
    "new_data_frame.describe()"
   ]
  },
  {
   "cell_type": "markdown",
   "metadata": {},
   "source": [
    "Lista completa de caracteristica (12)"
   ]
  },
  {
   "cell_type": "code",
   "execution_count": 7,
   "metadata": {},
   "outputs": [],
   "source": [
    "X_train, X_test, y_train, y_test = train_test_split(new_data_array, target, test_size=0.2, random_state=42, shuffle=True)\n"
   ]
  },
  {
   "cell_type": "code",
   "execution_count": 47,
   "metadata": {},
   "outputs": [],
   "source": [
    "model_DT = DecisionTreeRegressor(max_depth=10,min_samples_split=2,min_samples_leaf=8,max_features=None) #0.2766\n",
    "model_DT.fit(X_train, y_train).predict(X_test)"
   ]
  },
  {
   "cell_type": "code",
   "execution_count": 21,
   "metadata": {},
   "outputs": [
    {
     "name": "stdout",
     "output_type": "stream",
     "text": [
      "Mejores parámetros: {'max_depth': None, 'max_features': None, 'min_samples_leaf': 2, 'min_samples_split': 2, 'n_estimators': 800}\n",
      "Mejor puntaje: 0.20621006625295496\n"
     ]
    }
   ],
   "source": [
    "model_RF = RandomForestRegressor(n_estimators=300,max_depth=20,min_samples_leaf=2,min_samples_split=2,max_features=None) #0.206\n",
    "model_RF.fit(X_train, y_train).predict(X_test)"
   ]
  },
  {
   "cell_type": "code",
   "execution_count": 27,
   "metadata": {},
   "outputs": [
    {
     "name": "stdout",
     "output_type": "stream",
     "text": [
      "Mejores parámetros: {'activation': 'logistic', 'hidden_layer_sizes': (250,), 'learning_rate': 'adaptive', 'solver': 'adam'}\n",
      "Mejor puntaje: 0.4239934609913896\n"
     ]
    }
   ],
   "source": [
    "model_mlp = MLPRegressor(max_iter=1000,activation='logistic',hidden_layer_sizes=(250,),solver='adam',learning_rate='adaptive') #0.423\n",
    "model_mlp.fit(X_train, y_train).predict(X_test)\n"
   ]
  },
  {
   "cell_type": "markdown",
   "metadata": {},
   "source": [
    "Extracción de caracteristica"
   ]
  },
  {
   "cell_type": "code",
   "execution_count": 8,
   "metadata": {},
   "outputs": [],
   "source": [
    "from sklearn.preprocessing import MinMaxScaler\n",
    "from sklearn.preprocessing import PowerTransformer\n",
    "from sklearn.decomposition import PCA\n",
    "import visuals as vs\n",
    "min_data = MinMaxScaler().fit_transform(new_data_array)\n",
    "pt_data = PowerTransformer(method='yeo-johnson').fit_transform(min_data)\n",
    "X_train2, X_test2, y_train2, y_test2 = train_test_split(pt_data, target, test_size=0.2, random_state=42, shuffle=True)"
   ]
  },
  {
   "cell_type": "code",
   "execution_count": 9,
   "metadata": {},
   "outputs": [],
   "source": [
    "pca = PCA(n_components=2)\n",
    "id = pca.fit_transform(X_train2)\n",
    "X_test2_pca = pca.transform(X_test2)"
   ]
  },
  {
   "cell_type": "code",
   "execution_count": 120,
   "metadata": {},
   "outputs": [
    {
     "data": {
      "image/png": "[encoded data removed]",
      "text/plain": [
       "<Figure size 1000x500 with 1 Axes>"
      ]
     },
     "metadata": {},
     "output_type": "display_data"
    }
   ],
   "source": [
    "plt.figure(figsize=(10,5))\n",
    "plt.plot(range(1,3),pca.explained_variance_ratio_, c='red', label='Per Component Explained Variance')\n",
    "plt.bar(range(1,3), height=np.cumsum(pca.explained_variance_ratio_), label='Cumulative Explained Variance')\n",
    "plt.axhline(y=0.9, c='g', label='Cutoff')\n",
    "plt.title('Explained variance in PCA')\n",
    "plt.xticks(range(1,3))\n",
    "plt.legend(loc=1)\n",
    "plt.show()"
   ]
  },
  {
   "cell_type": "code",
   "execution_count": 121,
   "metadata": {},
   "outputs": [
    {
     "data": {
      "text/html": [
       "<div>\n",
       "<style scoped>\n",
       "    .dataframe tbody tr th:only-of-type {\n",
       "        vertical-align: middle;\n",
       "    }\n",
       "\n",
       "    .dataframe tbody tr th {\n",
       "        vertical-align: top;\n",
       "    }\n",
       "\n",
       "    .dataframe thead th {\n",
       "        text-align: right;\n",
       "    }\n",
       "</style>\n",
       "<table border=\"1\" class=\"dataframe\">\n",
       "  <thead>\n",
       "    <tr style=\"text-align: right;\">\n",
       "      <th></th>\n",
       "      <th>Explained Variance</th>\n",
       "      <th>Valor_Maximo</th>\n",
       "      <th>ABC</th>\n",
       "      <th>Timp_Subida</th>\n",
       "      <th>Timp_Bajada</th>\n",
       "      <th>Timp_Med</th>\n",
       "      <th>Pendiente_Max</th>\n",
       "      <th>Pendiente_Min</th>\n",
       "      <th>Pendiente_Med</th>\n",
       "      <th>Valor_Medio</th>\n",
       "      <th>Desv_est</th>\n",
       "      <th>Asimetria</th>\n",
       "      <th>Curtosis</th>\n",
       "    </tr>\n",
       "  </thead>\n",
       "  <tbody>\n",
       "    <tr>\n",
       "      <th>Dimension 1</th>\n",
       "      <td>0.7232</td>\n",
       "      <td>0.3378</td>\n",
       "      <td>0.3479</td>\n",
       "      <td>-0.2441</td>\n",
       "      <td>0.2420</td>\n",
       "      <td>-0.0</td>\n",
       "      <td>0.3229</td>\n",
       "      <td>-0.3240</td>\n",
       "      <td>0.2558</td>\n",
       "      <td>0.3479</td>\n",
       "      <td>0.3437</td>\n",
       "      <td>-0.2444</td>\n",
       "      <td>-0.2704</td>\n",
       "    </tr>\n",
       "    <tr>\n",
       "      <th>Dimension 2</th>\n",
       "      <td>0.1701</td>\n",
       "      <td>-0.1885</td>\n",
       "      <td>-0.0845</td>\n",
       "      <td>-0.4691</td>\n",
       "      <td>0.4694</td>\n",
       "      <td>-0.0</td>\n",
       "      <td>-0.2162</td>\n",
       "      <td>0.1857</td>\n",
       "      <td>-0.4034</td>\n",
       "      <td>-0.0848</td>\n",
       "      <td>-0.1459</td>\n",
       "      <td>-0.3870</td>\n",
       "      <td>-0.3078</td>\n",
       "    </tr>\n",
       "  </tbody>\n",
       "</table>\n",
       "</div>"
      ],
      "text/plain": [
       "             Explained Variance  Valor_Maximo     ABC  Timp_Subida  \\\n",
       "Dimension 1              0.7232        0.3378  0.3479      -0.2441   \n",
       "Dimension 2              0.1701       -0.1885 -0.0845      -0.4691   \n",
       "\n",
       "             Timp_Bajada  Timp_Med  Pendiente_Max  Pendiente_Min  \\\n",
       "Dimension 1       0.2420      -0.0         0.3229        -0.3240   \n",
       "Dimension 2       0.4694      -0.0        -0.2162         0.1857   \n",
       "\n",
       "             Pendiente_Med  Valor_Medio  Desv_est  Asimetria  Curtosis  \n",
       "Dimension 1         0.2558       0.3479    0.3437    -0.2444   -0.2704  \n",
       "Dimension 2        -0.4034      -0.0848   -0.1459    -0.3870   -0.3078  "
      ]
     },
     "execution_count": 121,
     "metadata": {},
     "output_type": "execute_result"
    },
    {
     "data": {
      "image/png": "[encoded data removed]",
      "text/plain": [
       "<Figure size 1400x800 with 1 Axes>"
      ]
     },
     "metadata": {},
     "output_type": "display_data"
    }
   ],
   "source": [
    "vs.pca_results(pd.DataFrame(pt_data,columns=new_data_frame.columns),pca,2)"
   ]
  },
  {
   "cell_type": "code",
   "execution_count": 12,
   "metadata": {},
   "outputs": [
    {
     "name": "stdout",
     "output_type": "stream",
     "text": [
      "MAE: 0.506402251826251\n",
      "MSE: 0.3434017695382423\n",
      "RMSE: 0.5860049227935226\n",
      "R2: 0.2344229472723428\n",
      "Max_Error: 2.260666666666667\n"
     ]
    }
   ],
   "source": [
    "model_DT = DecisionTreeRegressor(max_depth=4,max_features=None,min_samples_leaf=4,min_samples_split=10) #0.360\n",
    "y_pred = model_DT.fit(id, y_train2).predict(X_test2_pca)\n",
    "\n",
    "\n",
    "data_model_DT = {'Model': 'DecisionTreeRegressor',\n",
    "              'MSE': mean_squared_error(y_pred=y_pred,y_true=y_test2),\n",
    "              'RMSE': np.sqrt(mean_squared_error(y_pred=y_pred,y_true=y_test2)),\n",
    "              'MAE': mean_absolute_error(y_pred=y_pred,y_true=y_test2),\n",
    "              'R2': r2_score(y_pred=y_pred,y_true=y_test2),\n",
    "              'Max_Error': max_error(y_pred=y_pred,y_true=y_test2)}\n",
    "\n",
    "\n",
    "print(\"MAE:\", mean_absolute_error(y_pred=y_pred,y_true=y_test2))\n",
    "print(\"MSE:\",mean_squared_error(y_pred=y_pred,y_true=y_test2))\n",
    "print(\"RMSE:\",np.sqrt(mean_squared_error(y_pred=y_pred,y_true=y_test2)))\n",
    "print(\"R2:\",r2_score(y_pred=y_pred,y_true=y_test2))\n",
    "print(\"Max_Error:\",max_error(y_pred=y_pred,y_true=y_test2))"
   ]
  },
  {
   "cell_type": "code",
   "execution_count": 14,
   "metadata": {},
   "outputs": [
    {
     "name": "stdout",
     "output_type": "stream",
     "text": [
      "Mejores parámetros: {'random_state': 42, 'n_estimators': 200, 'min_samples_split': 2, 'min_samples_leaf': 1, 'max_features': 'log2', 'max_depth': 10}\n",
      "Mejor puntaje: 0.3454361537003498\n"
     ]
    }
   ],
   "source": [
    "\"\"\"\n",
    "model_RF = RandomForestRegressor()\n",
    "\n",
    "random_forest_params = {\n",
    "    'n_estimators': [100, 200, 300],\n",
    "    'max_depth': [None, 5, 10, 20],\n",
    "    'min_samples_split': [2, 5, 10],\n",
    "    'min_samples_leaf': [1, 2, 4],\n",
    "    'max_features': [None, 'sqrt', 'log2'],\n",
    "    'random_state': [0,42,123]\n",
    "}\n",
    "\n",
    "# Realizar la búsqueda de hiperparámetros\n",
    "grid_search_RF = RandomizedSearchCV(model_RF, random_forest_params, cv=5, scoring=MSE_scorer,n_jobs=-1,n_iter=300)\n",
    "grid_search_RF.fit(id, y_train2)\n",
    "\n",
    "results = grid_search_RF.cv_results_\n",
    "# Mostrar los mejores parámetros y el mejor score\n",
    "print(\"Mejores parámetros:\", grid_search_RF.best_params_)\n",
    "print(\"Mejor puntaje:\", -grid_search_RF.best_score_)\n",
    "\"\"\""
   ]
  },
  {
   "cell_type": "code",
   "execution_count": 16,
   "metadata": {},
   "outputs": [
    {
     "name": "stdout",
     "output_type": "stream",
     "text": [
      "MAE: 0.48153334528430103\n",
      "MSE: 0.3264888791775734\n",
      "RMSE: 0.5713920538278192\n",
      "R2: 0.27212840456464993\n",
      "Max_Error: 2.0038064552094177\n"
     ]
    }
   ],
   "source": [
    "model_RF = RandomForestRegressor(n_estimators=100,max_depth=10,min_samples_split=3,min_samples_leaf=1,max_features='sqrt')\n",
    "y_pred = model_RF.fit(id, y_train2).predict(X_test2_pca)\n",
    "\n",
    "\n",
    "data_model_RF = {'Model': 'RandomForestRegressor',\n",
    "              'MSE': mean_squared_error(y_pred=y_pred,y_true=y_test2),\n",
    "              'RMSE': np.sqrt(mean_squared_error(y_pred=y_pred,y_true=y_test2)),\n",
    "              'MAE': mean_absolute_error(y_pred=y_pred,y_true=y_test2),\n",
    "              'R2': r2_score(y_pred=y_pred,y_true=y_test2),\n",
    "              'Max_Error': max_error(y_pred=y_pred,y_true=y_test2)}\n",
    "\n",
    "\n",
    "print(\"MAE:\", mean_absolute_error(y_pred=y_pred,y_true=y_test2))\n",
    "print(\"MSE:\",mean_squared_error(y_pred=y_pred,y_true=y_test2))\n",
    "print(\"RMSE:\",np.sqrt(mean_squared_error(y_pred=y_pred,y_true=y_test2)))\n",
    "print(\"R2:\",r2_score(y_pred=y_pred,y_true=y_test2))\n",
    "print(\"Max_Error:\",max_error(y_pred=y_pred,y_true=y_test2))"
   ]
  },
  {
   "cell_type": "code",
   "execution_count": 31,
   "metadata": {},
   "outputs": [
    {
     "name": "stdout",
     "output_type": "stream",
     "text": [
      "MAE: 0.5071495443138804\n",
      "MSE: 0.3489588243942749\n",
      "RMSE: 0.5907273689226485\n",
      "R2: 0.22203409533297158\n",
      "Max_Error: 2.2774095164233463\n"
     ]
    }
   ],
   "source": [
    "model_mlp = MLPRegressor(max_iter=1500, hidden_layer_sizes=(100,),activation='relu',learning_rate='adaptive',solver='adam') #0.357\n",
    "y_pred = model_mlp.fit(id, y_train).predict(X_test2_pca)\n",
    "\n",
    "\n",
    "data_model_MLP = {'Model': 'MLPRegressor',\n",
    "              'MSE': mean_squared_error(y_pred=y_pred,y_true=y_test2),\n",
    "              'RMSE': np.sqrt(mean_squared_error(y_pred=y_pred,y_true=y_test2)),\n",
    "              'MAE': mean_absolute_error(y_pred=y_pred,y_true=y_test2),\n",
    "              'R2': r2_score(y_pred=y_pred,y_true=y_test2),\n",
    "              'Max_Error': max_error(y_pred=y_pred,y_true=y_test2)}\n",
    "\n",
    "\n",
    "print(\"MAE:\", mean_absolute_error(y_pred=y_pred,y_true=y_test2))\n",
    "print(\"MSE:\",mean_squared_error(y_pred=y_pred,y_true=y_test2))\n",
    "print(\"RMSE:\",np.sqrt(mean_squared_error(y_pred=y_pred,y_true=y_test2)))\n",
    "print(\"R2:\",r2_score(y_pred=y_pred,y_true=y_test2))\n",
    "print(\"Max_Error:\",max_error(y_pred=y_pred,y_true=y_test2))"
   ]
  },
  {
   "cell_type": "code",
   "execution_count": 32,
   "metadata": {},
   "outputs": [
    {
     "name": "stdout",
     "output_type": "stream",
     "text": [
      "MAE: 0.5427116533094678\n",
      "MSE: 0.390235553252632\n",
      "RMSE: 0.6246883649089616\n",
      "R2: 0.1300120988589536\n",
      "Max_Error: 2.6488097759305704\n"
     ]
    }
   ],
   "source": [
    "model_linear = LinearRegression(fit_intercept=True,n_jobs=-1,copy_X=True) #0.391\n",
    "y_pred = model_linear.fit(id, y_train).predict(X_test2_pca)\n",
    "\n",
    "data_model_LN = {'Model': 'LinearRegression',\n",
    "              'MSE': mean_squared_error(y_pred=y_pred,y_true=y_test2),\n",
    "              'RMSE': np.sqrt(mean_squared_error(y_pred=y_pred,y_true=y_test2)),\n",
    "              'MAE': mean_absolute_error(y_pred=y_pred,y_true=y_test2),\n",
    "              'R2': r2_score(y_pred=y_pred,y_true=y_test2),\n",
    "              'Max_Error': max_error(y_pred=y_pred,y_true=y_test2)}\n",
    "\n",
    "\n",
    "print(\"MAE:\", mean_absolute_error(y_pred=y_pred,y_true=y_test2))\n",
    "print(\"MSE:\",mean_squared_error(y_pred=y_pred,y_true=y_test2))\n",
    "print(\"RMSE:\",np.sqrt(mean_squared_error(y_pred=y_pred,y_true=y_test2)))\n",
    "print(\"R2:\",r2_score(y_pred=y_pred,y_true=y_test2))\n",
    "print(\"Max_Error:\",max_error(y_pred=y_pred,y_true=y_test2))"
   ]
  },
  {
   "cell_type": "code",
   "execution_count": 33,
   "metadata": {},
   "outputs": [
    {
     "name": "stdout",
     "output_type": "stream",
     "text": [
      "MAE: 0.5213097557759725\n",
      "MSE: 0.3452885840740575\n",
      "RMSE: 0.5876126139507707\n",
      "R2: 0.23021649861799998\n",
      "Max_Error: 2.1439338590700063\n"
     ]
    }
   ],
   "source": [
    "model_SVR = SVR(kernel='rbf',gamma='auto',C=5,epsilon=0.5,tol=0.1)\n",
    "y_pred = model_SVR.fit(id, y_train).predict(X_test2_pca)\n",
    "\n",
    "data_model_SVR = {'Model': 'SVR',\n",
    "              'MSE': mean_squared_error(y_pred=y_pred,y_true=y_test2),\n",
    "              'RMSE': np.sqrt(mean_squared_error(y_pred=y_pred,y_true=y_test2)),\n",
    "              'MAE': mean_absolute_error(y_pred=y_pred,y_true=y_test2),\n",
    "              'R2': r2_score(y_pred=y_pred,y_true=y_test2),\n",
    "              'Max_Error': max_error(y_pred=y_pred,y_true=y_test2)}\n",
    "\n",
    "\n",
    "print(\"MAE:\", mean_absolute_error(y_pred=y_pred,y_true=y_test2))\n",
    "print(\"MSE:\",mean_squared_error(y_pred=y_pred,y_true=y_test2))\n",
    "print(\"RMSE:\",np.sqrt(mean_squared_error(y_pred=y_pred,y_true=y_test2)))\n",
    "print(\"R2:\",r2_score(y_pred=y_pred,y_true=y_test2))\n",
    "print(\"Max_Error:\",max_error(y_pred=y_pred,y_true=y_test2))"
   ]
  },
  {
   "cell_type": "code",
   "execution_count": 34,
   "metadata": {},
   "outputs": [
    {
     "name": "stdout",
     "output_type": "stream",
     "text": [
      "MAE: 0.4954153678212989\n",
      "MSE: 0.33323830450950553\n",
      "RMSE: 0.5772679659477958\n",
      "R2: 0.2570812917900882\n",
      "Max_Error: 2.0038244231956615\n"
     ]
    }
   ],
   "source": [
    "model_XGBoost = GradientBoostingRegressor(loss='squared_error',\n",
    "                                          learning_rate=0.01,\n",
    "                                          n_estimators=200,\n",
    "                                          subsample=0.1,\n",
    "                                          criterion='squared_error',\n",
    "                                          max_depth=25,\n",
    "                                          min_samples_split=5,\n",
    "                                          min_samples_leaf=2,\n",
    "                                          max_features='log2')\n",
    "\n",
    "y_pred = model_XGBoost.fit(id, y_train).predict(X_test2_pca)\n",
    "\n",
    "data_model_GXBoost = {'Model': 'GXBoost',\n",
    "              'MSE': mean_squared_error(y_pred=y_pred,y_true=y_test2),\n",
    "              'RMSE': np.sqrt(mean_squared_error(y_pred=y_pred,y_true=y_test2)),\n",
    "              'MAE': mean_absolute_error(y_pred=y_pred,y_true=y_test2),\n",
    "              'R2': r2_score(y_pred=y_pred,y_true=y_test2),\n",
    "              'Max_Error': max_error(y_pred=y_pred,y_true=y_test2)}\n",
    "\n",
    "\n",
    "print(\"MAE:\", mean_absolute_error(y_pred=y_pred,y_true=y_test2))\n",
    "print(\"MSE:\",mean_squared_error(y_pred=y_pred,y_true=y_test2))\n",
    "print(\"RMSE:\",np.sqrt(mean_squared_error(y_pred=y_pred,y_true=y_test2)))\n",
    "print(\"R2:\",r2_score(y_pred=y_pred,y_true=y_test2))\n",
    "print(\"Max_Error:\",max_error(y_pred=y_pred,y_true=y_test2))\n"
   ]
  },
  {
   "cell_type": "code",
   "execution_count": 51,
   "metadata": {},
   "outputs": [],
   "source": [
    "metrics_general = [data_model_DT,data_model_LN,data_model_SVR,data_model_MLP,data_model_RF,data_model_GXBoost]\n",
    "Metrics = pd.DataFrame(metrics_general,columns=['Model','MSE','RMSE','MAE','R2','Max_Error'])"
   ]
  },
  {
   "cell_type": "code",
   "execution_count": 52,
   "metadata": {},
   "outputs": [
    {
     "data": {
      "text/html": [
       "<div>\n",
       "<style scoped>\n",
       "    .dataframe tbody tr th:only-of-type {\n",
       "        vertical-align: middle;\n",
       "    }\n",
       "\n",
       "    .dataframe tbody tr th {\n",
       "        vertical-align: top;\n",
       "    }\n",
       "\n",
       "    .dataframe thead th {\n",
       "        text-align: right;\n",
       "    }\n",
       "</style>\n",
       "<table border=\"1\" class=\"dataframe\">\n",
       "  <thead>\n",
       "    <tr style=\"text-align: right;\">\n",
       "      <th></th>\n",
       "      <th>Model</th>\n",
       "      <th>MSE</th>\n",
       "      <th>RMSE</th>\n",
       "      <th>MAE</th>\n",
       "      <th>R2</th>\n",
       "      <th>Max_Error</th>\n",
       "    </tr>\n",
       "  </thead>\n",
       "  <tbody>\n",
       "    <tr>\n",
       "      <th>0</th>\n",
       "      <td>DecisionTreeRegressor</td>\n",
       "      <td>0.343402</td>\n",
       "      <td>0.586005</td>\n",
       "      <td>0.506402</td>\n",
       "      <td>0.234423</td>\n",
       "      <td>2.260667</td>\n",
       "    </tr>\n",
       "    <tr>\n",
       "      <th>1</th>\n",
       "      <td>LinearRegression</td>\n",
       "      <td>0.390236</td>\n",
       "      <td>0.624688</td>\n",
       "      <td>0.542712</td>\n",
       "      <td>0.130012</td>\n",
       "      <td>2.648810</td>\n",
       "    </tr>\n",
       "    <tr>\n",
       "      <th>2</th>\n",
       "      <td>SVR</td>\n",
       "      <td>0.345289</td>\n",
       "      <td>0.587613</td>\n",
       "      <td>0.521310</td>\n",
       "      <td>0.230216</td>\n",
       "      <td>2.143934</td>\n",
       "    </tr>\n",
       "    <tr>\n",
       "      <th>3</th>\n",
       "      <td>MLPRegressor</td>\n",
       "      <td>0.348959</td>\n",
       "      <td>0.590727</td>\n",
       "      <td>0.507150</td>\n",
       "      <td>0.222034</td>\n",
       "      <td>2.277410</td>\n",
       "    </tr>\n",
       "    <tr>\n",
       "      <th>4</th>\n",
       "      <td>RandomForestRegressor</td>\n",
       "      <td>0.328484</td>\n",
       "      <td>0.573135</td>\n",
       "      <td>0.483561</td>\n",
       "      <td>0.267680</td>\n",
       "      <td>1.973716</td>\n",
       "    </tr>\n",
       "    <tr>\n",
       "      <th>5</th>\n",
       "      <td>GXBoost</td>\n",
       "      <td>0.333238</td>\n",
       "      <td>0.577268</td>\n",
       "      <td>0.495415</td>\n",
       "      <td>0.257081</td>\n",
       "      <td>2.003824</td>\n",
       "    </tr>\n",
       "  </tbody>\n",
       "</table>\n",
       "</div>"
      ],
      "text/plain": [
       "                   Model       MSE      RMSE       MAE        R2  Max_Error\n",
       "0  DecisionTreeRegressor  0.343402  0.586005  0.506402  0.234423   2.260667\n",
       "1       LinearRegression  0.390236  0.624688  0.542712  0.130012   2.648810\n",
       "2                    SVR  0.345289  0.587613  0.521310  0.230216   2.143934\n",
       "3           MLPRegressor  0.348959  0.590727  0.507150  0.222034   2.277410\n",
       "4  RandomForestRegressor  0.328484  0.573135  0.483561  0.267680   1.973716\n",
       "5                GXBoost  0.333238  0.577268  0.495415  0.257081   2.003824"
      ]
     },
     "execution_count": 52,
     "metadata": {},
     "output_type": "execute_result"
    }
   ],
   "source": [
    "Metrics"
   ]
  },
  {
   "cell_type": "code",
   "execution_count": 110,
   "metadata": {},
   "outputs": [],
   "source": [
    "metrics_name = []\n",
    "metrics_value = []\n",
    "for column in Metrics.columns[1:]:\n",
    "    if column == 'R2':\n",
    "        val_sorted = Metrics[column].sort_values(ascending=False)\n",
    "        indices_originales = pd.Series(val_sorted.index, index=val_sorted.values)\n",
    "        metrics_value.append(pd.DataFrame(np.array(val_sorted),index=None,columns=[column]))\n",
    "        metrics_name.append(pd.DataFrame(np.array(Metrics.iloc[indices_originales,0]),index=None,columns=[column]))\n",
    "\n",
    "    else:\n",
    "        val_sorted = Metrics[column].sort_values(ascending=True)\n",
    "        indices_originales = pd.Series(val_sorted.index, index=val_sorted.values)\n",
    "        metrics_value.append(pd.DataFrame(np.array(val_sorted),index=None,columns=[column]))\n",
    "        metrics_name.append(pd.DataFrame(np.array(Metrics.iloc[indices_originales,0]),index=None,columns=[column]))\n",
    "Metrics_values = pd.concat(metrics_value,axis=1)\n",
    "Metrics_name = pd.concat(metrics_name,axis=1)\n"
   ]
  },
  {
   "cell_type": "code",
   "execution_count": 111,
   "metadata": {},
   "outputs": [
    {
     "data": {
      "text/html": [
       "<div>\n",
       "<style scoped>\n",
       "    .dataframe tbody tr th:only-of-type {\n",
       "        vertical-align: middle;\n",
       "    }\n",
       "\n",
       "    .dataframe tbody tr th {\n",
       "        vertical-align: top;\n",
       "    }\n",
       "\n",
       "    .dataframe thead th {\n",
       "        text-align: right;\n",
       "    }\n",
       "</style>\n",
       "<table border=\"1\" class=\"dataframe\">\n",
       "  <thead>\n",
       "    <tr style=\"text-align: right;\">\n",
       "      <th></th>\n",
       "      <th>MSE</th>\n",
       "      <th>RMSE</th>\n",
       "      <th>MAE</th>\n",
       "      <th>R2</th>\n",
       "      <th>Max_Error</th>\n",
       "    </tr>\n",
       "  </thead>\n",
       "  <tbody>\n",
       "    <tr>\n",
       "      <th>0</th>\n",
       "      <td>0.328484</td>\n",
       "      <td>0.573135</td>\n",
       "      <td>0.483561</td>\n",
       "      <td>0.267680</td>\n",
       "      <td>1.973716</td>\n",
       "    </tr>\n",
       "    <tr>\n",
       "      <th>1</th>\n",
       "      <td>0.333238</td>\n",
       "      <td>0.577268</td>\n",
       "      <td>0.495415</td>\n",
       "      <td>0.257081</td>\n",
       "      <td>2.003824</td>\n",
       "    </tr>\n",
       "    <tr>\n",
       "      <th>2</th>\n",
       "      <td>0.343402</td>\n",
       "      <td>0.586005</td>\n",
       "      <td>0.506402</td>\n",
       "      <td>0.234423</td>\n",
       "      <td>2.143934</td>\n",
       "    </tr>\n",
       "    <tr>\n",
       "      <th>3</th>\n",
       "      <td>0.345289</td>\n",
       "      <td>0.587613</td>\n",
       "      <td>0.507150</td>\n",
       "      <td>0.230216</td>\n",
       "      <td>2.260667</td>\n",
       "    </tr>\n",
       "    <tr>\n",
       "      <th>4</th>\n",
       "      <td>0.348959</td>\n",
       "      <td>0.590727</td>\n",
       "      <td>0.521310</td>\n",
       "      <td>0.222034</td>\n",
       "      <td>2.277410</td>\n",
       "    </tr>\n",
       "    <tr>\n",
       "      <th>5</th>\n",
       "      <td>0.390236</td>\n",
       "      <td>0.624688</td>\n",
       "      <td>0.542712</td>\n",
       "      <td>0.130012</td>\n",
       "      <td>2.648810</td>\n",
       "    </tr>\n",
       "  </tbody>\n",
       "</table>\n",
       "</div>"
      ],
      "text/plain": [
       "        MSE      RMSE       MAE        R2  Max_Error\n",
       "0  0.328484  0.573135  0.483561  0.267680   1.973716\n",
       "1  0.333238  0.577268  0.495415  0.257081   2.003824\n",
       "2  0.343402  0.586005  0.506402  0.234423   2.143934\n",
       "3  0.345289  0.587613  0.507150  0.230216   2.260667\n",
       "4  0.348959  0.590727  0.521310  0.222034   2.277410\n",
       "5  0.390236  0.624688  0.542712  0.130012   2.648810"
      ]
     },
     "execution_count": 111,
     "metadata": {},
     "output_type": "execute_result"
    }
   ],
   "source": [
    "Metrics_values"
   ]
  },
  {
   "cell_type": "code",
   "execution_count": 112,
   "metadata": {},
   "outputs": [
    {
     "data": {
      "text/html": [
       "<div>\n",
       "<style scoped>\n",
       "    .dataframe tbody tr th:only-of-type {\n",
       "        vertical-align: middle;\n",
       "    }\n",
       "\n",
       "    .dataframe tbody tr th {\n",
       "        vertical-align: top;\n",
       "    }\n",
       "\n",
       "    .dataframe thead th {\n",
       "        text-align: right;\n",
       "    }\n",
       "</style>\n",
       "<table border=\"1\" class=\"dataframe\">\n",
       "  <thead>\n",
       "    <tr style=\"text-align: right;\">\n",
       "      <th></th>\n",
       "      <th>MSE</th>\n",
       "      <th>RMSE</th>\n",
       "      <th>MAE</th>\n",
       "      <th>R2</th>\n",
       "      <th>Max_Error</th>\n",
       "    </tr>\n",
       "  </thead>\n",
       "  <tbody>\n",
       "    <tr>\n",
       "      <th>0</th>\n",
       "      <td>RandomForestRegressor</td>\n",
       "      <td>RandomForestRegressor</td>\n",
       "      <td>RandomForestRegressor</td>\n",
       "      <td>RandomForestRegressor</td>\n",
       "      <td>RandomForestRegressor</td>\n",
       "    </tr>\n",
       "    <tr>\n",
       "      <th>1</th>\n",
       "      <td>GXBoost</td>\n",
       "      <td>GXBoost</td>\n",
       "      <td>GXBoost</td>\n",
       "      <td>GXBoost</td>\n",
       "      <td>GXBoost</td>\n",
       "    </tr>\n",
       "    <tr>\n",
       "      <th>2</th>\n",
       "      <td>DecisionTreeRegressor</td>\n",
       "      <td>DecisionTreeRegressor</td>\n",
       "      <td>DecisionTreeRegressor</td>\n",
       "      <td>DecisionTreeRegressor</td>\n",
       "      <td>SVR</td>\n",
       "    </tr>\n",
       "    <tr>\n",
       "      <th>3</th>\n",
       "      <td>SVR</td>\n",
       "      <td>SVR</td>\n",
       "      <td>MLPRegressor</td>\n",
       "      <td>SVR</td>\n",
       "      <td>DecisionTreeRegressor</td>\n",
       "    </tr>\n",
       "    <tr>\n",
       "      <th>4</th>\n",
       "      <td>MLPRegressor</td>\n",
       "      <td>MLPRegressor</td>\n",
       "      <td>SVR</td>\n",
       "      <td>MLPRegressor</td>\n",
       "      <td>MLPRegressor</td>\n",
       "    </tr>\n",
       "    <tr>\n",
       "      <th>5</th>\n",
       "      <td>LinearRegression</td>\n",
       "      <td>LinearRegression</td>\n",
       "      <td>LinearRegression</td>\n",
       "      <td>LinearRegression</td>\n",
       "      <td>LinearRegression</td>\n",
       "    </tr>\n",
       "  </tbody>\n",
       "</table>\n",
       "</div>"
      ],
      "text/plain": [
       "                     MSE                   RMSE                    MAE  \\\n",
       "0  RandomForestRegressor  RandomForestRegressor  RandomForestRegressor   \n",
       "1                GXBoost                GXBoost                GXBoost   \n",
       "2  DecisionTreeRegressor  DecisionTreeRegressor  DecisionTreeRegressor   \n",
       "3                    SVR                    SVR           MLPRegressor   \n",
       "4           MLPRegressor           MLPRegressor                    SVR   \n",
       "5       LinearRegression       LinearRegression       LinearRegression   \n",
       "\n",
       "                      R2              Max_Error  \n",
       "0  RandomForestRegressor  RandomForestRegressor  \n",
       "1                GXBoost                GXBoost  \n",
       "2  DecisionTreeRegressor                    SVR  \n",
       "3                    SVR  DecisionTreeRegressor  \n",
       "4           MLPRegressor           MLPRegressor  \n",
       "5       LinearRegression       LinearRegression  "
      ]
     },
     "execution_count": 112,
     "metadata": {},
     "output_type": "execute_result"
    }
   ],
   "source": [
    "Metrics_name"
   ]
  },
  {
   "cell_type": "code",
   "execution_count": 129,
   "metadata": {},
   "outputs": [
    {
     "data": {
      "text/html": [
       "<div>\n",
       "<style scoped>\n",
       "    .dataframe tbody tr th:only-of-type {\n",
       "        vertical-align: middle;\n",
       "    }\n",
       "\n",
       "    .dataframe tbody tr th {\n",
       "        vertical-align: top;\n",
       "    }\n",
       "\n",
       "    .dataframe thead th {\n",
       "        text-align: right;\n",
       "    }\n",
       "</style>\n",
       "<table border=\"1\" class=\"dataframe\">\n",
       "  <thead>\n",
       "    <tr style=\"text-align: right;\">\n",
       "      <th></th>\n",
       "      <th>MSE</th>\n",
       "      <th>RMSE</th>\n",
       "      <th>MAE</th>\n",
       "      <th>R2</th>\n",
       "      <th>Max_Error</th>\n",
       "    </tr>\n",
       "  </thead>\n",
       "  <tbody>\n",
       "    <tr>\n",
       "      <th>0</th>\n",
       "      <td>RandomForestRegressor (0.328)</td>\n",
       "      <td>RandomForestRegressor (0.573)</td>\n",
       "      <td>RandomForestRegressor (0.484)</td>\n",
       "      <td>RandomForestRegressor (0.268)</td>\n",
       "      <td>RandomForestRegressor (1.974)</td>\n",
       "    </tr>\n",
       "    <tr>\n",
       "      <th>1</th>\n",
       "      <td>GXBoost (0.333)</td>\n",
       "      <td>GXBoost (0.577)</td>\n",
       "      <td>GXBoost (0.495)</td>\n",
       "      <td>GXBoost (0.257)</td>\n",
       "      <td>GXBoost (2.004)</td>\n",
       "    </tr>\n",
       "    <tr>\n",
       "      <th>2</th>\n",
       "      <td>DecisionTreeRegressor (0.343)</td>\n",
       "      <td>DecisionTreeRegressor (0.586)</td>\n",
       "      <td>DecisionTreeRegressor (0.506)</td>\n",
       "      <td>DecisionTreeRegressor (0.234)</td>\n",
       "      <td>SVR (2.144)</td>\n",
       "    </tr>\n",
       "    <tr>\n",
       "      <th>3</th>\n",
       "      <td>SVR (0.345)</td>\n",
       "      <td>SVR (0.588)</td>\n",
       "      <td>MLPRegressor (0.507)</td>\n",
       "      <td>SVR (0.23)</td>\n",
       "      <td>DecisionTreeRegressor (2.261)</td>\n",
       "    </tr>\n",
       "    <tr>\n",
       "      <th>4</th>\n",
       "      <td>MLPRegressor (0.349)</td>\n",
       "      <td>MLPRegressor (0.591)</td>\n",
       "      <td>SVR (0.521)</td>\n",
       "      <td>MLPRegressor (0.222)</td>\n",
       "      <td>MLPRegressor (2.277)</td>\n",
       "    </tr>\n",
       "    <tr>\n",
       "      <th>5</th>\n",
       "      <td>LinearRegression (0.39)</td>\n",
       "      <td>LinearRegression (0.625)</td>\n",
       "      <td>LinearRegression (0.543)</td>\n",
       "      <td>LinearRegression (0.13)</td>\n",
       "      <td>LinearRegression (2.649)</td>\n",
       "    </tr>\n",
       "  </tbody>\n",
       "</table>\n",
       "</div>"
      ],
      "text/plain": [
       "                             MSE                           RMSE  \\\n",
       "0  RandomForestRegressor (0.328)  RandomForestRegressor (0.573)   \n",
       "1                GXBoost (0.333)                GXBoost (0.577)   \n",
       "2  DecisionTreeRegressor (0.343)  DecisionTreeRegressor (0.586)   \n",
       "3                    SVR (0.345)                    SVR (0.588)   \n",
       "4           MLPRegressor (0.349)           MLPRegressor (0.591)   \n",
       "5        LinearRegression (0.39)       LinearRegression (0.625)   \n",
       "\n",
       "                             MAE                             R2  \\\n",
       "0  RandomForestRegressor (0.484)  RandomForestRegressor (0.268)   \n",
       "1                GXBoost (0.495)                GXBoost (0.257)   \n",
       "2  DecisionTreeRegressor (0.506)  DecisionTreeRegressor (0.234)   \n",
       "3           MLPRegressor (0.507)                     SVR (0.23)   \n",
       "4                    SVR (0.521)           MLPRegressor (0.222)   \n",
       "5       LinearRegression (0.543)        LinearRegression (0.13)   \n",
       "\n",
       "                       Max_Error  \n",
       "0  RandomForestRegressor (1.974)  \n",
       "1                GXBoost (2.004)  \n",
       "2                    SVR (2.144)  \n",
       "3  DecisionTreeRegressor (2.261)  \n",
       "4           MLPRegressor (2.277)  \n",
       "5       LinearRegression (2.649)  "
      ]
     },
     "execution_count": 129,
     "metadata": {},
     "output_type": "execute_result"
    }
   ],
   "source": [
    "df_combined = pd.DataFrame()\n",
    "for column in Metrics_name.columns:\n",
    "    # Concatenamos los valores de las columnas de ambos DataFrames, con los valores de Metrics_name entre paréntesis\n",
    "    df_combined[column] = Metrics_name[column] + ' (' + round(Metrics_values[column],3).astype(str) + ')'\n",
    "\n",
    "# Muestra el DataFrame combinado\n",
    "df_combined"
   ]
  }
 ],
 "metadata": {
  "kernelspec": {
   "display_name": "ML",
   "language": "python",
   "name": "python3"
  },
  "language_info": {
   "codemirror_mode": {
    "name": "ipython",
    "version": 3
   },
   "file_extension": ".py",
   "mimetype": "text/x-python",
   "name": "python",
   "nbconvert_exporter": "python",
   "pygments_lexer": "ipython3",
   "version": "3.12.2"
  }
 },
 "nbformat": 4,
 "nbformat_minor": 2
}
