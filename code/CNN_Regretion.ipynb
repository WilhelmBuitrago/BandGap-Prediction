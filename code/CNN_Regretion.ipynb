{
 "cells": [
  {
   "cell_type": "code",
   "execution_count": 76,
   "metadata": {},
   "outputs": [],
   "source": [
    "from getdata import GetDataset\n",
    "import numpy as np\n",
    "import pandas as pd\n",
    "import matplotlib.pyplot as plt\n",
    "import torch"
   ]
  },
  {
   "cell_type": "code",
   "execution_count": 103,
   "metadata": {},
   "outputs": [],
   "source": [
    "data_orig,target = GetDataset(CreateDataFrame=True).Outputdata()"
   ]
  },
  {
   "cell_type": "code",
   "execution_count": 104,
   "metadata": {},
   "outputs": [],
   "source": [
    "#Interpolacion para que los datos en x1 sean x distantes\n",
    "x = np.linspace(data_orig[0][0].min(),data_orig[0][0].max(),900)\n",
    "temp = np.zeros((data_orig.shape[0],900))\n",
    "for i in range(data_orig.shape[0]):\n",
    "    temp[i,:] = np.interp(x,data_orig[i][0][:-1],data_orig[i][1][:-1])"
   ]
  },
  {
   "cell_type": "code",
   "execution_count": 105,
   "metadata": {},
   "outputs": [],
   "source": [
    "# Creacion de arreglos matriciales 30x30 2 channels\n",
    "np.sqrt(901)\n",
    "dim = int(np.sqrt(temp.shape[1]))\n",
    "data = np.zeros((temp.shape[0],dim,dim,2))\n",
    "for i in range(data.shape[0]):\n",
    "    data[i,:,:,0] = temp[i].reshape((1,dim,dim))\n",
    "    data[i,:,:,1] = np.gradient(temp[i]).reshape((1,dim,dim))"
   ]
  },
  {
   "cell_type": "code",
   "execution_count": 107,
   "metadata": {},
   "outputs": [
    {
     "data": {
      "text/plain": [
       "tensor([2082, 2966, 2862,  ...,  847, 2232, 1707])"
      ]
     },
     "execution_count": 107,
     "metadata": {},
     "output_type": "execute_result"
    }
   ],
   "source": [
    "torch.manual_seed(42)\n",
    "shuffle_idx = torch.randperm(3090, dtype = torch.long)\n",
    "data_shuffle = data[shuffle_idx]\n",
    "target_shuffle = target[shuffle_idx]\n",
    "shuffle_idx"
   ]
  },
  {
   "cell_type": "code",
   "execution_count": 180,
   "metadata": {},
   "outputs": [
    {
     "data": {
      "text/plain": [
       "2.08"
      ]
     },
     "execution_count": 180,
     "metadata": {},
     "output_type": "execute_result"
    }
   ],
   "source": [
    "target_shuffle[0]"
   ]
  },
  {
   "cell_type": "code",
   "execution_count": 182,
   "metadata": {},
   "outputs": [],
   "source": [
    "train_input, train_target = data_shuffle[:2472,:,:,:], target_shuffle[:2472]\n",
    "val_input, val_target = data_shuffle[2472:2781,:,:,:], target_shuffle[2472:2781]\n",
    "test_input, test_target = data_shuffle[2781:,:,:,:], target_shuffle[2781:]"
   ]
  },
  {
   "cell_type": "code",
   "execution_count": 183,
   "metadata": {},
   "outputs": [
    {
     "data": {
      "text/plain": [
       "3.32"
      ]
     },
     "execution_count": 183,
     "metadata": {},
     "output_type": "execute_result"
    }
   ],
   "source": [
    "val_target[0]"
   ]
  },
  {
   "cell_type": "code",
   "execution_count": 184,
   "metadata": {},
   "outputs": [
    {
     "data": {
      "text/plain": [
       "device(type='cuda')"
      ]
     },
     "execution_count": 184,
     "metadata": {},
     "output_type": "execute_result"
    }
   ],
   "source": [
    "device = torch.device(\"cuda\" if torch.cuda.is_available() else \"cpu\")\n",
    "device"
   ]
  },
  {
   "cell_type": "code",
   "execution_count": 185,
   "metadata": {},
   "outputs": [],
   "source": [
    "train_input = torch.tensor(train_input, dtype = torch.float, device=device)\n",
    "train_target = torch.tensor(train_target, dtype = torch.float, device=device)\n",
    "\n",
    "test_input = torch.tensor(test_input, dtype = torch.float, device=device)\n",
    "test_target = torch.tensor(test_target, dtype = torch.float, device=device)\n",
    "\n",
    "val_input = torch.tensor(val_input, dtype = torch.float, device=device)\n",
    "val_target = torch.tensor(val_target, dtype = torch.float, device=device)"
   ]
  },
  {
   "cell_type": "code",
   "execution_count": 186,
   "metadata": {},
   "outputs": [],
   "source": [
    "train_input = train_input.permute(0,3,1,2)\n",
    "test_input = test_input.permute(0,3,1,2)\n",
    "val_input = val_input.permute(0,3,1,2)\n"
   ]
  },
  {
   "cell_type": "code",
   "execution_count": 187,
   "metadata": {},
   "outputs": [
    {
     "data": {
      "text/plain": [
       "torch.Size([309, 2, 30, 30])"
      ]
     },
     "execution_count": 187,
     "metadata": {},
     "output_type": "execute_result"
    }
   ],
   "source": [
    "train_input.shape\n",
    "val_input.shape\n",
    "test_input.shape"
   ]
  },
  {
   "cell_type": "code",
   "execution_count": 188,
   "metadata": {},
   "outputs": [
    {
     "name": "stderr",
     "output_type": "stream",
     "text": [
      "Epoch 1/100:   0%|          | 0/24 [00:00<?, ?it/s]c:\\Users\\hecto\\miniconda3\\envs\\RNN\\Lib\\site-packages\\torch\\nn\\modules\\loss.py:535: UserWarning: Using a target size (torch.Size([100])) that is different to the input size (torch.Size([100, 1])). This will likely lead to incorrect results due to broadcasting. Please ensure they have the same size.\n",
      "  return F.mse_loss(input, target, reduction=self.reduction)\n",
      "Epoch 1/100:  96%|█████████▌| 23/24 [00:00<00:00, 207.99it/s, Loss=0.72] c:\\Users\\hecto\\miniconda3\\envs\\RNN\\Lib\\site-packages\\torch\\nn\\modules\\loss.py:535: UserWarning: Using a target size (torch.Size([72])) that is different to the input size (torch.Size([72, 1])). This will likely lead to incorrect results due to broadcasting. Please ensure they have the same size.\n",
      "  return F.mse_loss(input, target, reduction=self.reduction)\n",
      "Epoch 1/100: 25it [00:00, 205.28it/s, Average Loss=1.98]                 \n",
      "Epoch 2/100: 25it [00:00, 217.90it/s, Average Loss=2.11]                 \n",
      "Epoch 3/100: 25it [00:00, 259.80it/s, Average Loss=0.396]                \n",
      "Epoch 4/100: 25it [00:00, 336.77it/s, Average Loss=0.267]                \n",
      "Epoch 5/100: 25it [00:00, 322.05it/s, Average Loss=5.2]                  \n",
      "Epoch 6/100: 25it [00:00, 291.25it/s, Average Loss=0.122]                \n",
      "Epoch 7/100: 25it [00:00, 270.89it/s, Average Loss=0.112]                \n",
      "Epoch 8/100: 25it [00:00, 269.36it/s, Average Loss=0.112]                \n",
      "Epoch 9/100: 25it [00:00, 225.30it/s, Average Loss=0.113]                \n",
      "Epoch 10/100: 25it [00:00, 281.53it/s, Average Loss=0.111]                \n",
      "Epoch 11/100: 25it [00:00, 270.45it/s, Average Loss=0.112]                \n",
      "Epoch 12/100: 25it [00:00, 293.99it/s, Average Loss=0.111]                \n",
      "Epoch 13/100: 25it [00:00, 297.66it/s, Average Loss=0.111]                \n",
      "Epoch 14/100: 25it [00:00, 293.97it/s, Average Loss=0.112]                \n",
      "Epoch 15/100: 25it [00:00, 300.93it/s, Average Loss=0.113]                \n",
      "Epoch 16/100: 25it [00:00, 275.24it/s, Average Loss=0.111]                \n",
      "Epoch 17/100: 25it [00:00, 283.94it/s, Average Loss=0.111]                \n",
      "Epoch 18/100: 25it [00:00, 284.41it/s, Average Loss=0.111]                \n",
      "Epoch 19/100: 25it [00:00, 264.29it/s, Average Loss=0.115]                \n",
      "Epoch 20/100: 25it [00:00, 288.06it/s, Average Loss=0.112]                \n",
      "Epoch 21/100: 25it [00:00, 291.88it/s, Average Loss=0.111]                \n",
      "Epoch 22/100: 25it [00:00, 245.22it/s, Average Loss=0.111]                \n",
      "Epoch 23/100: 25it [00:00, 287.63it/s, Average Loss=0.11]                 \n",
      "Epoch 24/100: 25it [00:00, 284.11it/s, Average Loss=0.113]                \n",
      "Epoch 25/100: 25it [00:00, 271.14it/s, Average Loss=0.111]                \n",
      "Epoch 26/100: 25it [00:00, 293.04it/s, Average Loss=0.111]                \n",
      "Epoch 27/100: 25it [00:00, 268.27it/s, Average Loss=0.11]                 \n",
      "Epoch 28/100: 25it [00:00, 276.76it/s, Average Loss=0.11]                 \n",
      "Epoch 29/100: 25it [00:00, 289.68it/s, Average Loss=0.111]                \n",
      "Epoch 30/100: 25it [00:00, 292.50it/s, Average Loss=0.11]                 \n",
      "Epoch 31/100: 25it [00:00, 290.66it/s, Average Loss=0.111]                \n",
      "Epoch 32/100: 25it [00:00, 295.13it/s, Average Loss=0.113]                \n",
      "Epoch 33/100: 25it [00:00, 289.25it/s, Average Loss=0.115]                \n",
      "Epoch 34/100: 25it [00:00, 236.36it/s, Average Loss=0.112]                \n",
      "Epoch 35/100: 25it [00:00, 290.35it/s, Average Loss=0.111]                \n",
      "Epoch 36/100: 25it [00:00, 316.86it/s, Average Loss=0.114]                \n",
      "Epoch 37/100: 25it [00:00, 284.19it/s, Average Loss=0.111]                \n",
      "Epoch 38/100: 25it [00:00, 284.56it/s, Average Loss=0.11]                 \n",
      "Epoch 39/100: 25it [00:00, 289.92it/s, Average Loss=0.112]                \n",
      "Epoch 40/100: 25it [00:00, 295.17it/s, Average Loss=0.11]                 \n",
      "Epoch 41/100: 25it [00:00, 279.47it/s, Average Loss=0.112]                \n",
      "Epoch 42/100: 25it [00:00, 298.32it/s, Average Loss=0.111]                \n",
      "Epoch 43/100: 25it [00:00, 291.51it/s, Average Loss=0.11]                 \n",
      "Epoch 44/100: 25it [00:00, 283.25it/s, Average Loss=0.11]                 \n",
      "Epoch 45/100: 25it [00:00, 301.68it/s, Average Loss=0.112]                \n",
      "Epoch 46/100: 25it [00:00, 231.82it/s, Average Loss=0.111]                \n",
      "Epoch 47/100: 25it [00:00, 293.29it/s, Average Loss=0.11]                 \n",
      "Epoch 48/100: 25it [00:00, 311.72it/s, Average Loss=0.111]                \n",
      "Epoch 49/100: 25it [00:00, 253.84it/s, Average Loss=0.111]                \n",
      "Epoch 50/100: 25it [00:00, 275.05it/s, Average Loss=0.11]                 \n",
      "Epoch 51/100: 25it [00:00, 274.58it/s, Average Loss=0.111]                \n",
      "Epoch 52/100: 25it [00:00, 291.44it/s, Average Loss=0.113]                \n",
      "Epoch 53/100: 25it [00:00, 280.80it/s, Average Loss=0.111]                \n",
      "Epoch 54/100: 25it [00:00, 298.94it/s, Average Loss=0.111]                \n",
      "Epoch 55/100: 25it [00:00, 287.29it/s, Average Loss=0.11]                 \n",
      "Epoch 56/100: 25it [00:00, 238.50it/s, Average Loss=0.111]                \n",
      "Epoch 57/100: 25it [00:00, 295.63it/s, Average Loss=0.111]                \n",
      "Epoch 58/100: 25it [00:00, 307.40it/s, Average Loss=0.112]                \n",
      "Epoch 59/100: 25it [00:00, 306.81it/s, Average Loss=0.112]                \n",
      "Epoch 60/100: 25it [00:00, 295.71it/s, Average Loss=0.112]                \n",
      "Epoch 61/100: 25it [00:00, 305.20it/s, Average Loss=0.111]                \n",
      "Epoch 62/100: 25it [00:00, 297.73it/s, Average Loss=0.11]                 \n",
      "Epoch 63/100: 25it [00:00, 295.50it/s, Average Loss=0.111]                \n",
      "Epoch 64/100: 25it [00:00, 316.89it/s, Average Loss=0.111]                \n",
      "Epoch 65/100: 25it [00:00, 274.97it/s, Average Loss=0.11]                 \n",
      "Epoch 66/100: 25it [00:00, 196.59it/s, Average Loss=0.111]                \n",
      "Epoch 67/100: 25it [00:00, 310.27it/s, Average Loss=0.111]                \n",
      "Epoch 68/100: 25it [00:00, 314.56it/s, Average Loss=0.111]                \n",
      "Epoch 69/100: 25it [00:00, 302.27it/s, Average Loss=0.111]                \n",
      "Epoch 70/100: 25it [00:00, 317.81it/s, Average Loss=0.112]                \n",
      "Epoch 71/100: 25it [00:00, 311.85it/s, Average Loss=0.112]                \n",
      "Epoch 72/100: 25it [00:00, 299.59it/s, Average Loss=0.11]                 \n",
      "Epoch 73/100: 25it [00:00, 316.89it/s, Average Loss=0.11]                 \n",
      "Epoch 74/100: 25it [00:00, 203.92it/s, Average Loss=0.111]                \n",
      "Epoch 75/100: 25it [00:00, 241.02it/s, Average Loss=0.112]                \n",
      "Epoch 76/100: 25it [00:00, 280.35it/s, Average Loss=0.111]                \n",
      "Epoch 77/100: 25it [00:00, 311.69it/s, Average Loss=0.11]                 \n",
      "Epoch 78/100: 25it [00:00, 308.53it/s, Average Loss=0.111]                \n",
      "Epoch 79/100: 25it [00:00, 311.86it/s, Average Loss=0.111]                \n",
      "Epoch 80/100: 25it [00:00, 309.39it/s, Average Loss=0.109]                \n",
      "Epoch 81/100: 25it [00:00, 305.52it/s, Average Loss=0.11]                 \n",
      "Epoch 82/100: 25it [00:00, 315.95it/s, Average Loss=0.112]                \n",
      "Epoch 83/100: 25it [00:00, 271.03it/s, Average Loss=0.111]                \n",
      "Epoch 84/100: 25it [00:00, 271.61it/s, Average Loss=0.114]                \n",
      "Epoch 85/100: 25it [00:00, 302.72it/s, Average Loss=0.111]                \n",
      "Epoch 86/100: 25it [00:00, 307.40it/s, Average Loss=0.114]                \n",
      "Epoch 87/100: 25it [00:00, 315.00it/s, Average Loss=0.11]                 \n",
      "Epoch 88/100: 25it [00:00, 299.96it/s, Average Loss=0.111]                \n",
      "Epoch 89/100: 25it [00:00, 294.09it/s, Average Loss=0.11]                 \n",
      "Epoch 90/100: 25it [00:00, 293.38it/s, Average Loss=0.111]                \n",
      "Epoch 91/100: 25it [00:00, 257.57it/s, Average Loss=0.11]                 \n",
      "Epoch 92/100: 25it [00:00, 278.15it/s, Average Loss=0.113]                \n",
      "Epoch 93/100: 25it [00:00, 307.70it/s, Average Loss=0.111]                \n",
      "Epoch 94/100: 25it [00:00, 300.00it/s, Average Loss=0.111]                \n",
      "Epoch 95/100: 25it [00:00, 289.94it/s, Average Loss=0.111]                \n",
      "Epoch 96/100: 25it [00:00, 290.96it/s, Average Loss=0.111]                \n",
      "Epoch 97/100: 25it [00:00, 309.27it/s, Average Loss=0.112]                \n",
      "Epoch 98/100: 25it [00:00, 298.26it/s, Average Loss=0.111]                \n",
      "Epoch 99/100: 25it [00:00, 240.43it/s, Average Loss=0.111]                \n",
      "Epoch 100/100: 25it [00:00, 298.24it/s, Average Loss=0.111]                \n"
     ]
    }
   ],
   "source": [
    "import torch.nn as nn\n",
    "from torch.nn import functional as F\n",
    "from torch import optim\n",
    "from tqdm import tqdm\n",
    "import math\n",
    "from torchsummary import summary\n",
    "\n",
    "class Lineal_Net(nn.Module):\n",
    "    def __init__(self, criterion, optimizer):\n",
    "        super(Lineal_Net, self).__init__()\n",
    "        self.conv1 = nn.Conv2d(2, 16, kernel_size=(1,5), stride=5, padding=0) #30x6\n",
    "        self.conv2 = nn.Conv2d(16, 32, kernel_size=(1,3), stride=3, padding=0) #30x2\n",
    "        self.conv3 = nn.Conv2d(32, 64, kernel_size=(1,2), stride=1, padding=0) #30x1\n",
    "        self.fc1 = nn.Linear(64 * 2 * 1, 64)\n",
    "        self.fc2 = nn.Linear(64,1)\n",
    "\n",
    "        self.criterion = criterion\n",
    "        self.optimizer = optimizer\n",
    "\n",
    "\n",
    "    def forward(self, x):\n",
    "        x = F.relu(self.conv1(x))\n",
    "        #x = F.max_pool2d(x, kernel_size=2, stride=2)\n",
    "        x = F.relu(self.conv2(x))\n",
    "        x = F.relu(self.conv3(x))\n",
    "        #x = F.max_pool2d(x, kernel_size=2, stride=2)\n",
    "        #x = x.view(-1, 64 * 30 * 1)\n",
    "        x = x.contiguous() \n",
    "        x = x.view(x.size(0),-1)\n",
    "        x = F.relu(self.fc1(x))\n",
    "        x = self.fc2(x)\n",
    "        return x\n",
    "    \n",
    "    def train(self, x, y, epochs, lr, batch_size):\n",
    "\n",
    "        optimizer = self.optimizer(self.parameters(), lr=lr)\n",
    "        epoch_loss = []\n",
    "        total_batches = math.floor(y.shape[0]/batch_size)\n",
    "\n",
    "        for e in range(epochs):\n",
    "            pbar = tqdm(total= total_batches, desc=f'Epoch {e+1}/{epochs}', position=0, leave=True)\n",
    "            acc_loss = 0.0\n",
    "            shuffle_idx = torch.randperm(y.size(0), dtype = torch.long)\n",
    "            batches = torch.split(shuffle_idx, batch_size)\n",
    "            \n",
    "            for batch in batches:\n",
    "\n",
    "                input_batch = x[batch]\n",
    "                target_batch = y[batch]\n",
    "\n",
    "                output = self.forward(input_batch)\n",
    "\n",
    "                # Calcular la pérdida\n",
    "                loss = self.criterion(output.float(), target_batch.float())\n",
    "\n",
    "                # Guardamos la perdida del batchs\n",
    "                acc_loss += loss.item()\n",
    "                \n",
    "                # Realizamos el backpropagation y la actualización de los parámetros\n",
    "                optimizer.zero_grad()  # Necesario porque pytorch acumula los gradients en lugar de reemplazarlos en cada iteracion\n",
    "                loss.backward()\n",
    "\n",
    "                optimizer.step()\n",
    "\n",
    "                pbar.set_postfix({'Loss': loss.item()})\n",
    "                pbar.update(1)\n",
    "                \n",
    "            epoch_loss.append(acc_loss)\n",
    "            avg_loss = acc_loss / batch_size\n",
    "            pbar.set_postfix({'Average Loss': avg_loss})\n",
    "            pbar.close()\n",
    "            \n",
    "        return epoch_loss\n",
    "    \n",
    "model = Lineal_Net(nn.MSELoss(), optim.Adam)\n",
    "model.to(device)\n",
    "loss = model.train(train_input, train_target, epochs=100, lr=0.01, batch_size=100)"
   ]
  },
  {
   "cell_type": "code",
   "execution_count": 189,
   "metadata": {},
   "outputs": [
    {
     "data": {
      "image/png": "[encoded data removed]",
      "text/plain": [
       "<Figure size 640x480 with 1 Axes>"
      ]
     },
     "metadata": {},
     "output_type": "display_data"
    }
   ],
   "source": [
    "plt.plot(range(100), loss)\n",
    "plt.grid(True)"
   ]
  },
  {
   "cell_type": "code",
   "execution_count": 175,
   "metadata": {},
   "outputs": [
    {
     "data": {
      "text/plain": [
       "torch.Size([1, 2, 30, 30])"
      ]
     },
     "execution_count": 175,
     "metadata": {},
     "output_type": "execute_result"
    }
   ],
   "source": [
    "val_input[0:1,:,:,:].shape"
   ]
  },
  {
   "cell_type": "code",
   "execution_count": 190,
   "metadata": {},
   "outputs": [
    {
     "data": {
      "text/plain": [
       "tensor([[2.5730],\n",
       "        [2.5712],\n",
       "        [2.5710],\n",
       "        [2.5721],\n",
       "        [2.5718],\n",
       "        [2.5745],\n",
       "        [2.5748],\n",
       "        [2.5739],\n",
       "        [2.5722],\n",
       "        [2.5725]], device='cuda:0', grad_fn=<AddmmBackward0>)"
      ]
     },
     "execution_count": 190,
     "metadata": {},
     "output_type": "execute_result"
    }
   ],
   "source": [
    "model.forward(val_input[0:10,:,:,:])"
   ]
  },
  {
   "cell_type": "code",
   "execution_count": 191,
   "metadata": {},
   "outputs": [
    {
     "data": {
      "text/plain": [
       "tensor([2.0700, 3.3700, 2.8500, 1.9700, 3.1900, 3.2600, 2.5200, 2.2200, 2.1700],\n",
       "       device='cuda:0')"
      ]
     },
     "execution_count": 191,
     "metadata": {},
     "output_type": "execute_result"
    }
   ],
   "source": [
    "val_target[1:10]"
   ]
  }
 ],
 "metadata": {
  "kernelspec": {
   "display_name": "Python 3",
   "language": "python",
   "name": "python3"
  },
  "language_info": {
   "codemirror_mode": {
    "name": "ipython",
    "version": 3
   },
   "file_extension": ".py",
   "mimetype": "text/x-python",
   "name": "python",
   "nbconvert_exporter": "python",
   "pygments_lexer": "ipython3",
   "version": "3.12.2"
  }
 },
 "nbformat": 4,
 "nbformat_minor": 2
}
