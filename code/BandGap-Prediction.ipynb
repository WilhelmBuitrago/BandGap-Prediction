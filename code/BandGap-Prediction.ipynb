{
 "cells": [
  {
   "cell_type": "code",
   "execution_count": 19,
   "metadata": {},
   "outputs": [],
   "source": [
    "from getdata import GetDataset\n",
    "import numpy as np\n",
    "import pandas as pd\n",
    "#import matplotlib.pyplot as plt"
   ]
  },
  {
   "cell_type": "code",
   "execution_count": 20,
   "metadata": {},
   "outputs": [],
   "source": [
    "data,target = GetDataset(CreateDataFrame=True).Outputdata()"
   ]
  },
  {
   "cell_type": "code",
   "execution_count": 21,
   "metadata": {},
   "outputs": [],
   "source": [
    "x = np.linspace(data[0][0].min(),data[0][0].max(),900)\n",
    "data2 = np.zeros((data.shape[0],900))\n",
    "for i in range(data.shape[0]):\n",
    "    data2[i,:] = np.interp(x,data[i][0][1:],data[i][1][1:])\n",
    "\n"
   ]
  },
  {
   "cell_type": "code",
   "execution_count": 26,
   "metadata": {},
   "outputs": [],
   "source": [
    "np.sqrt(901)\n",
    "dim = int(np.sqrt(data2.shape[1]))\n",
    "DataC = np.zeros((data2.shape[0],dim,dim,2))\n",
    "\n",
    "for i in range(DataC.shape[0]):\n",
    "    DataC[i,:,:,0] = data2[i].reshape((1,dim,dim))\n",
    "    DataC[i,:,:,1] = np.gradient(data2[i]).reshape((1,dim,dim))"
   ]
  },
  {
   "cell_type": "code",
   "execution_count": 86,
   "metadata": {},
   "outputs": [
    {
     "name": "stdout",
     "output_type": "stream",
     "text": [
      "Model: \"FCN\"\n",
      "_________________________________________________________________\n",
      " Layer (type)                Output Shape              Param #   \n",
      "=================================================================\n",
      " input_32 (InputLayer)       [(None, 30, 30, 2)]       0         \n",
      "                                                                 \n",
      " Conv10 (Conv2D)             (None, 30, 30, 32)        352       \n",
      "                                                                 \n",
      " Conv11 (Conv2D)             (None, 30, 30, 32)        5152      \n",
      "                                                                 \n",
      " Pool10 (MaxPooling2D)       (None, 15, 15, 32)        0         \n",
      "                                                                 \n",
      " Conv20 (Conv2D)             (None, 15, 15, 32)        5152      \n",
      "                                                                 \n",
      " Conv21 (Conv2D)             (None, 15, 15, 32)        5152      \n",
      "                                                                 \n",
      " Pool20 (MaxPooling2D)       (None, 7, 7, 32)          0         \n",
      "                                                                 \n",
      " Conv30 (Conv2D)             (None, 7, 7, 64)          10304     \n",
      "                                                                 \n",
      " Conv31 (Conv2D)             (None, 7, 7, 64)          20544     \n",
      "                                                                 \n",
      " Pool30 (MaxPooling2D)       (None, 3, 3, 64)          0         \n",
      "                                                                 \n",
      " Flatten10 (Flatten)         (None, 576)               0         \n",
      "                                                                 \n",
      " Dense10 (Dense)             (None, 288)               166176    \n",
      "                                                                 \n",
      " Dense20 (Dense)             (None, 144)               41616     \n",
      "                                                                 \n",
      " Dense30 (Dense)             (None, 48)                6960      \n",
      "                                                                 \n",
      " Dense40 (Dense)             (None, 24)                1176      \n",
      "                                                                 \n",
      " Dense50 (Dense)             (None, 1)                 25        \n",
      "                                                                 \n",
      "=================================================================\n",
      "Total params: 262,609\n",
      "Trainable params: 262,609\n",
      "Non-trainable params: 0\n",
      "_________________________________________________________________\n"
     ]
    }
   ],
   "source": [
    "import tensorflow as tf\n",
    "from keras import Model, layers, regularizers, losses\n",
    "from functools import partial\n",
    "\n",
    "DefaultConv2D = partial(layers.Conv2D,\n",
    "                        kernel_size=(1,5), activation='sigmoide', padding=\"same\")\n",
    "\n",
    "DefaultPooling = partial(layers.MaxPool2D,\n",
    "                         pool_size=2)\n",
    "\n",
    "def fcn_baseline(input_shape=(30, 30, 2), name='FCN'):\n",
    "    # Encoder\n",
    "    input_ = layers.Input(shape=input_shape)\n",
    "\n",
    "    x = DefaultConv2D(\n",
    "        32, name='Conv10')(input_)\n",
    "    x = DefaultConv2D(\n",
    "        32,name='Conv11')(x)\n",
    "\n",
    "    x = DefaultPooling(name='Pool10')(x)  # 30x30x2 -> 15x15x32\n",
    "\n",
    "\n",
    "    x = DefaultConv2D(\n",
    "        32,  name='Conv20')(x)\n",
    "    x = DefaultConv2D(\n",
    "        32,  name='Conv21')(x)\n",
    "\n",
    "    x = DefaultPooling(name='Pool20')(x)  # 15x15x32 -> 7x7x32\n",
    "\n",
    "    x = DefaultConv2D(\n",
    "        64, name='Conv30')(x)\n",
    "    x = DefaultConv2D(\n",
    "        64,  name='Conv31')(x)\n",
    "\n",
    "    x  = DefaultPooling(name='Pool30')(x)  # 7x7x32-> 3x3x64\n",
    "\n",
    "    x = layers.Flatten(name='Flatten10')(x)\n",
    "    x =  layers.Dense(288,activation='sigmoide',input_shape=x.shape,name='Dense10')(x)\n",
    "    x =  layers.Dense(144,activation='sigmoide',input_shape=(x.shape,),name='Dense20')(x)\n",
    "    x =  layers.Dense(48,activation='sigmoide',input_shape=(x.shape,),name='Dense30')(x)\n",
    "    x =  layers.Dense(24,activation='sigmoide',input_shape=(x.shape,),name='Dense40')(x)\n",
    "    x =  layers.Dense(1,activation='relu',input_shape=(x.shape,),name='Dense50')(x)\n",
    "    modelo = Model(input_,x,name=name)\n",
    "    modelo.compile(loss=losses.MeanSquaredError(), optimizer='adam', metrics=['mean_squared_error','mean_absolute_error'])\n",
    "    return modelo\n",
    "\n",
    "\n",
    "model = fcn_baseline()\n",
    "model.summary()\n"
   ]
  },
  {
   "cell_type": "code",
   "execution_count": 83,
   "metadata": {},
   "outputs": [],
   "source": [
    "from sklearn.model_selection import train_test_split\n",
    "target = target.astype(np.float32)\n",
    "DataC = DataC.astype(np.float32)\n",
    "X_train, X_test, y_train, y_test = train_test_split(DataC, target, test_size=0.2, random_state=42, shuffle=True)\n"
   ]
  },
  {
   "cell_type": "code",
   "execution_count": 87,
   "metadata": {},
   "outputs": [
    {
     "name": "stdout",
     "output_type": "stream",
     "text": [
      "Epoch 1/10\n",
      "39/39 [==============================] - 5s 89ms/step - loss: 9.6254 - mean_squared_error: 9.6254 - mean_absolute_error: 2.7052\n",
      "Epoch 2/10\n",
      "39/39 [==============================] - 3s 89ms/step - loss: 7.4262 - mean_squared_error: 7.4262 - mean_absolute_error: 2.6447\n",
      "Epoch 3/10\n",
      "39/39 [==============================] - 3s 86ms/step - loss: 7.4262 - mean_squared_error: 7.4262 - mean_absolute_error: 2.6447\n",
      "Epoch 4/10\n",
      "39/39 [==============================] - 4s 101ms/step - loss: 7.4262 - mean_squared_error: 7.4262 - mean_absolute_error: 2.6447\n",
      "Epoch 5/10\n",
      "39/39 [==============================] - 3s 83ms/step - loss: 7.4262 - mean_squared_error: 7.4262 - mean_absolute_error: 2.6447\n",
      "Epoch 6/10\n",
      "39/39 [==============================] - 3s 75ms/step - loss: 7.4262 - mean_squared_error: 7.4262 - mean_absolute_error: 2.6447\n",
      "Epoch 7/10\n",
      "39/39 [==============================] - 3s 80ms/step - loss: 7.4262 - mean_squared_error: 7.4262 - mean_absolute_error: 2.6447\n",
      "Epoch 8/10\n",
      "39/39 [==============================] - 3s 71ms/step - loss: 7.4262 - mean_squared_error: 7.4262 - mean_absolute_error: 2.6447\n",
      "Epoch 9/10\n",
      "39/39 [==============================] - 4s 97ms/step - loss: 7.4262 - mean_squared_error: 7.4262 - mean_absolute_error: 2.6447\n",
      "Epoch 10/10\n",
      "39/39 [==============================] - 5s 135ms/step - loss: 7.4262 - mean_squared_error: 7.4262 - mean_absolute_error: 2.6447\n"
     ]
    },
    {
     "data": {
      "text/plain": [
       "<keras.callbacks.History at 0x21903cecf40>"
      ]
     },
     "execution_count": 87,
     "metadata": {},
     "output_type": "execute_result"
    }
   ],
   "source": [
    "model.fit(X_train,y_train,batch_size=64,epochs=10)"
   ]
  }
 ],
 "metadata": {
  "kernelspec": {
   "display_name": "ML",
   "language": "python",
   "name": "python3"
  },
  "language_info": {
   "codemirror_mode": {
    "name": "ipython",
    "version": 3
   },
   "file_extension": ".py",
   "mimetype": "text/x-python",
   "name": "python",
   "nbconvert_exporter": "python",
   "pygments_lexer": "ipython3",
   "version": "3.12.2"
  }
 },
 "nbformat": 4,
 "nbformat_minor": 2
}
