{
 "cells": [
  {
   "cell_type": "code",
   "execution_count": 1,
   "metadata": {},
   "outputs": [],
   "source": [
    "from getdata import GetDataset\n",
    "import numpy as np\n",
    "import pandas as pd\n",
    "import matplotlib.pyplot as plt"
   ]
  },
  {
   "cell_type": "code",
   "execution_count": 2,
   "metadata": {},
   "outputs": [],
   "source": [
    "data,target = GetDataset(CreateDataFrame=True).Outputdata()"
   ]
  },
  {
   "cell_type": "code",
   "execution_count": 3,
   "metadata": {},
   "outputs": [],
   "source": [
    "x = np.linspace(data[0][0].min(),data[0][0].max(),901)\n",
    "data2 = np.zeros((data.shape[0],901))\n",
    "for i in range(data.shape[0]):\n",
    "    data2[i,:] = np.interp(x,data[i][0],data[i][1])"
   ]
  },
  {
   "cell_type": "code",
   "execution_count": 4,
   "metadata": {},
   "outputs": [
    {
     "data": {
      "text/plain": [
       "[<matplotlib.lines.Line2D at 0x28a8249fe90>]"
      ]
     },
     "execution_count": 4,
     "metadata": {},
     "output_type": "execute_result"
    },
    {
     "data": {
      "image/png": "[encoded data removed]",
      "text/plain": [
       "<Figure size 640x480 with 1 Axes>"
      ]
     },
     "metadata": {},
     "output_type": "display_data"
    }
   ],
   "source": [
    "plt.plot(x,data2[600])\n",
    "plt.plot(data[600][0],data[600][1])"
   ]
  },
  {
   "cell_type": "code",
   "execution_count": 4,
   "metadata": {},
   "outputs": [],
   "source": [
    "from sklearn.model_selection import train_test_split\n",
    "from sklearn.model_selection import GridSearchCV\n",
    "from sklearn.ensemble import RandomForestRegressor\n",
    "from sklearn.tree import DecisionTreeRegressor\n",
    "from sklearn.neural_network import MLPRegressor\n",
    "from sklearn.linear_model import LinearRegression,LogisticRegression\n",
    "from sklearn.svm import SVR\n",
    "from sklearn.ensemble import GradientBoostingRegressor\n",
    "from sklearn.metrics import make_scorer, mean_squared_error, r2_score, mean_absolute_error, max_error"
   ]
  },
  {
   "cell_type": "markdown",
   "metadata": {},
   "source": [
    "Scorer"
   ]
  },
  {
   "cell_type": "code",
   "execution_count": 5,
   "metadata": {},
   "outputs": [],
   "source": [
    "MSE_scorer = make_scorer(mean_squared_error,greater_is_better=False)"
   ]
  },
  {
   "cell_type": "code",
   "execution_count": 6,
   "metadata": {},
   "outputs": [],
   "source": [
    "def TranformData(data):\n",
    "    datatrans = np.zeros((data.shape[0],12))\n",
    "    for i,element in enumerate(data):\n",
    "        # 1. Valor máximo de la curva\n",
    "        valor_maximo = np.max(element)\n",
    "        # 2. Área bajo la curva (usando la regla del trapecio)\n",
    "        area_bajo_curva = np.trapz(element)\n",
    "\n",
    "        # 3. Tiempo de subida\n",
    "        tiempo_de_subida = np.argmax(element)\n",
    "\n",
    "        # 4. Tiempo de decaimiento\n",
    "        tiempo_de_decaimiento = len(element) - tiempo_de_subida\n",
    "\n",
    "        # 5. Tiempo medio de vida\n",
    "        tiempo_medio_vida = (tiempo_de_subida + tiempo_de_decaimiento) / 2\n",
    "\n",
    "        # 6. Pendiente máxima\n",
    "        pendiente_maxima = np.max(np.gradient(element))\n",
    "\n",
    "        # 7. Pendiente mínima\n",
    "        pendiente_minima = np.min(np.gradient(element))\n",
    "\n",
    "        # 8. Pendiente promedio\n",
    "        pendiente_promedio = np.mean(np.gradient(element))\n",
    "\n",
    "\n",
    "        # 9. Valor medio\n",
    "        valor_medio = np.mean(element)\n",
    "\n",
    "        # 10. Desviación estándar\n",
    "        desviacion_estandar = np.std(element)\n",
    "\n",
    "        # 11. Asimetría\n",
    "        asimetria = np.mean((element - valor_medio) ** 3) / (np.std(element) ** 3)\n",
    "\n",
    "        # 12. Curtosis\n",
    "        curtosis = np.mean((element - valor_medio) ** 4) / (np.std(element) ** 4)\n",
    "\n",
    "        dat = np.array([valor_maximo,area_bajo_curva,tiempo_de_subida,tiempo_de_decaimiento,tiempo_medio_vida,pendiente_maxima,pendiente_minima,pendiente_promedio,valor_medio,desviacion_estandar,asimetria,curtosis]).reshape(1,12)\n",
    "        datatrans[i,:] = dat[:]\n",
    "    columns = ['Valor_Maximo','ABC','Timp_Subida','Timp_Bajada','Timp_Med','Pendiente_Max','Pendiente_Min','Pendiente_Med','Valor_Medio','Desv_est','Asimetria','Curtosis']\n",
    "    datat = pd.DataFrame(datatrans,columns=columns)\n",
    "    return datat\n",
    "\n",
    "new_data_frame = TranformData(data2)\n",
    "new_data_array = np.array(new_data_frame)"
   ]
  },
  {
   "cell_type": "code",
   "execution_count": 25,
   "metadata": {},
   "outputs": [
    {
     "data": {
      "text/html": [
       "<div>\n",
       "<style scoped>\n",
       "    .dataframe tbody tr th:only-of-type {\n",
       "        vertical-align: middle;\n",
       "    }\n",
       "\n",
       "    .dataframe tbody tr th {\n",
       "        vertical-align: top;\n",
       "    }\n",
       "\n",
       "    .dataframe thead th {\n",
       "        text-align: right;\n",
       "    }\n",
       "</style>\n",
       "<table border=\"1\" class=\"dataframe\">\n",
       "  <thead>\n",
       "    <tr style=\"text-align: right;\">\n",
       "      <th></th>\n",
       "      <th>Valor_Maximo</th>\n",
       "      <th>ABC</th>\n",
       "      <th>Timp_Subida</th>\n",
       "      <th>Timp_Bajada</th>\n",
       "      <th>Timp_Med</th>\n",
       "      <th>Pendiente_Max</th>\n",
       "      <th>Pendiente_Min</th>\n",
       "      <th>Pendiente_Med</th>\n",
       "      <th>Valor_Medio</th>\n",
       "      <th>Desv_est</th>\n",
       "      <th>Asimetria</th>\n",
       "      <th>Curtosis</th>\n",
       "    </tr>\n",
       "  </thead>\n",
       "  <tbody>\n",
       "    <tr>\n",
       "      <th>count</th>\n",
       "      <td>3090.000000</td>\n",
       "      <td>3.090000e+03</td>\n",
       "      <td>3090.000000</td>\n",
       "      <td>3090.000000</td>\n",
       "      <td>3090.0</td>\n",
       "      <td>3090.000000</td>\n",
       "      <td>3090.000000</td>\n",
       "      <td>3090.000000</td>\n",
       "      <td>3090.000000</td>\n",
       "      <td>3090.000000</td>\n",
       "      <td>3090.000000</td>\n",
       "      <td>3090.000000</td>\n",
       "    </tr>\n",
       "    <tr>\n",
       "      <th>mean</th>\n",
       "      <td>1202.183193</td>\n",
       "      <td>3.662693e+05</td>\n",
       "      <td>751.368285</td>\n",
       "      <td>149.631715</td>\n",
       "      <td>450.5</td>\n",
       "      <td>40.197848</td>\n",
       "      <td>-44.595393</td>\n",
       "      <td>0.786947</td>\n",
       "      <td>406.911891</td>\n",
       "      <td>382.481104</td>\n",
       "      <td>0.671907</td>\n",
       "      <td>2.608289</td>\n",
       "    </tr>\n",
       "    <tr>\n",
       "      <th>std</th>\n",
       "      <td>1001.713605</td>\n",
       "      <td>3.159178e+05</td>\n",
       "      <td>89.153203</td>\n",
       "      <td>89.153203</td>\n",
       "      <td>0.0</td>\n",
       "      <td>163.138313</td>\n",
       "      <td>121.380720</td>\n",
       "      <td>0.696142</td>\n",
       "      <td>350.908656</td>\n",
       "      <td>326.911142</td>\n",
       "      <td>0.610922</td>\n",
       "      <td>7.755203</td>\n",
       "    </tr>\n",
       "    <tr>\n",
       "      <th>min</th>\n",
       "      <td>16.068455</td>\n",
       "      <td>2.896662e+03</td>\n",
       "      <td>0.000000</td>\n",
       "      <td>1.000000</td>\n",
       "      <td>450.5</td>\n",
       "      <td>0.264611</td>\n",
       "      <td>-4529.952143</td>\n",
       "      <td>-2.117993</td>\n",
       "      <td>3.242831</td>\n",
       "      <td>3.552618</td>\n",
       "      <td>-0.210522</td>\n",
       "      <td>1.282336</td>\n",
       "    </tr>\n",
       "    <tr>\n",
       "      <th>25%</th>\n",
       "      <td>533.233176</td>\n",
       "      <td>1.359099e+05</td>\n",
       "      <td>705.000000</td>\n",
       "      <td>169.000000</td>\n",
       "      <td>450.5</td>\n",
       "      <td>9.284539</td>\n",
       "      <td>-49.652105</td>\n",
       "      <td>0.397551</td>\n",
       "      <td>151.137491</td>\n",
       "      <td>156.776614</td>\n",
       "      <td>0.408608</td>\n",
       "      <td>1.656719</td>\n",
       "    </tr>\n",
       "    <tr>\n",
       "      <th>50%</th>\n",
       "      <td>909.313800</td>\n",
       "      <td>2.757352e+05</td>\n",
       "      <td>713.000000</td>\n",
       "      <td>188.000000</td>\n",
       "      <td>450.5</td>\n",
       "      <td>19.219254</td>\n",
       "      <td>-24.893552</td>\n",
       "      <td>0.611389</td>\n",
       "      <td>306.543135</td>\n",
       "      <td>280.524811</td>\n",
       "      <td>0.485585</td>\n",
       "      <td>1.873081</td>\n",
       "    </tr>\n",
       "    <tr>\n",
       "      <th>75%</th>\n",
       "      <td>1628.887150</td>\n",
       "      <td>5.225830e+05</td>\n",
       "      <td>732.000000</td>\n",
       "      <td>196.000000</td>\n",
       "      <td>450.5</td>\n",
       "      <td>41.592740</td>\n",
       "      <td>-13.402031</td>\n",
       "      <td>0.958095</td>\n",
       "      <td>580.429303</td>\n",
       "      <td>530.057951</td>\n",
       "      <td>0.706357</td>\n",
       "      <td>2.393365</td>\n",
       "    </tr>\n",
       "    <tr>\n",
       "      <th>max</th>\n",
       "      <td>9702.678349</td>\n",
       "      <td>3.067414e+06</td>\n",
       "      <td>900.000000</td>\n",
       "      <td>901.000000</td>\n",
       "      <td>450.5</td>\n",
       "      <td>7282.490662</td>\n",
       "      <td>-0.014624</td>\n",
       "      <td>8.420333</td>\n",
       "      <td>3407.538707</td>\n",
       "      <td>3080.809199</td>\n",
       "      <td>16.942606</td>\n",
       "      <td>416.819460</td>\n",
       "    </tr>\n",
       "  </tbody>\n",
       "</table>\n",
       "</div>"
      ],
      "text/plain": [
       "       Valor_Maximo           ABC  Timp_Subida  Timp_Bajada  Timp_Med  \\\n",
       "count   3090.000000  3.090000e+03  3090.000000  3090.000000    3090.0   \n",
       "mean    1202.183193  3.662693e+05   751.368285   149.631715     450.5   \n",
       "std     1001.713605  3.159178e+05    89.153203    89.153203       0.0   \n",
       "min       16.068455  2.896662e+03     0.000000     1.000000     450.5   \n",
       "25%      533.233176  1.359099e+05   705.000000   169.000000     450.5   \n",
       "50%      909.313800  2.757352e+05   713.000000   188.000000     450.5   \n",
       "75%     1628.887150  5.225830e+05   732.000000   196.000000     450.5   \n",
       "max     9702.678349  3.067414e+06   900.000000   901.000000     450.5   \n",
       "\n",
       "       Pendiente_Max  Pendiente_Min  Pendiente_Med  Valor_Medio     Desv_est  \\\n",
       "count    3090.000000    3090.000000    3090.000000  3090.000000  3090.000000   \n",
       "mean       40.197848     -44.595393       0.786947   406.911891   382.481104   \n",
       "std       163.138313     121.380720       0.696142   350.908656   326.911142   \n",
       "min         0.264611   -4529.952143      -2.117993     3.242831     3.552618   \n",
       "25%         9.284539     -49.652105       0.397551   151.137491   156.776614   \n",
       "50%        19.219254     -24.893552       0.611389   306.543135   280.524811   \n",
       "75%        41.592740     -13.402031       0.958095   580.429303   530.057951   \n",
       "max      7282.490662      -0.014624       8.420333  3407.538707  3080.809199   \n",
       "\n",
       "         Asimetria     Curtosis  \n",
       "count  3090.000000  3090.000000  \n",
       "mean      0.671907     2.608289  \n",
       "std       0.610922     7.755203  \n",
       "min      -0.210522     1.282336  \n",
       "25%       0.408608     1.656719  \n",
       "50%       0.485585     1.873081  \n",
       "75%       0.706357     2.393365  \n",
       "max      16.942606   416.819460  "
      ]
     },
     "execution_count": 25,
     "metadata": {},
     "output_type": "execute_result"
    }
   ],
   "source": [
    "new_data_frame.describe()"
   ]
  },
  {
   "cell_type": "markdown",
   "metadata": {},
   "source": [
    "Lista completa de caracteristica (12)"
   ]
  },
  {
   "cell_type": "code",
   "execution_count": 7,
   "metadata": {},
   "outputs": [],
   "source": [
    "X_train, X_test, y_train, y_test = train_test_split(new_data_array, target, test_size=0.2, random_state=42, shuffle=True)\n"
   ]
  },
  {
   "cell_type": "code",
   "execution_count": 47,
   "metadata": {},
   "outputs": [],
   "source": [
    "model_DT = DecisionTreeRegressor(max_depth=10,min_samples_split=2,min_samples_leaf=8,max_features=None) #0.2766\n",
    "model_DT.fit(X_train, y_train).predict(X_test)"
   ]
  },
  {
   "cell_type": "code",
   "execution_count": 21,
   "metadata": {},
   "outputs": [
    {
     "name": "stdout",
     "output_type": "stream",
     "text": [
      "Mejores parámetros: {'max_depth': None, 'max_features': None, 'min_samples_leaf': 2, 'min_samples_split': 2, 'n_estimators': 800}\n",
      "Mejor puntaje: 0.20621006625295496\n"
     ]
    }
   ],
   "source": [
    "model_RF = RandomForestRegressor(n_estimators=800,max_depth=None,min_samples_leaf=2,min_samples_split=2,max_features=None) #0.206\n",
    "model_RF.fit(X_train, y_train).predict(X_test)"
   ]
  },
  {
   "cell_type": "code",
   "execution_count": 27,
   "metadata": {},
   "outputs": [
    {
     "name": "stdout",
     "output_type": "stream",
     "text": [
      "Mejores parámetros: {'activation': 'logistic', 'hidden_layer_sizes': (250,), 'learning_rate': 'adaptive', 'solver': 'adam'}\n",
      "Mejor puntaje: 0.4239934609913896\n"
     ]
    }
   ],
   "source": [
    "model_mlp = MLPRegressor(max_iter=1000,activation='logistic',hidden_layer_sizes=(250,),solver='adam',learning_rate='adaptive') #0.423\n",
    "model_mlp.fit(X_train, y_train).predict(X_test)\n"
   ]
  },
  {
   "cell_type": "markdown",
   "metadata": {},
   "source": [
    "Extracción de caracteristica"
   ]
  },
  {
   "cell_type": "code",
   "execution_count": 8,
   "metadata": {},
   "outputs": [],
   "source": [
    "from sklearn.preprocessing import MinMaxScaler\n",
    "from sklearn.preprocessing import PowerTransformer\n",
    "from sklearn.decomposition import PCA\n",
    "import visuals as vs\n",
    "min_data = MinMaxScaler().fit_transform(new_data_array)\n",
    "pt_data = PowerTransformer(method='yeo-johnson').fit_transform(min_data)\n",
    "X_train2, X_test2, y_train2, y_test2 = train_test_split(pt_data, target, test_size=0.2, random_state=42, shuffle=True)"
   ]
  },
  {
   "cell_type": "code",
   "execution_count": 9,
   "metadata": {},
   "outputs": [],
   "source": [
    "pca = PCA(n_components=2)\n",
    "id = pca.fit_transform(X_train2)\n",
    "X_test2_pca = pca.transform(X_test2)"
   ]
  },
  {
   "cell_type": "code",
   "execution_count": 55,
   "metadata": {},
   "outputs": [
    {
     "data": {
      "image/png": "[encoded data removed]",
      "text/plain": [
       "<Figure size 1000x500 with 1 Axes>"
      ]
     },
     "metadata": {},
     "output_type": "display_data"
    }
   ],
   "source": [
    "plt.figure(figsize=(10,5))\n",
    "plt.plot(range(1,3),pca.explained_variance_ratio_, c='red', label='Per Component Explained Variance')\n",
    "plt.bar(range(1,3), height=np.cumsum(pca.explained_variance_ratio_), label='Cumulative Explained Variance')\n",
    "plt.axhline(y=0.9, c='g', label='Cutoff')\n",
    "plt.title('Explained variance in PCA')\n",
    "plt.xticks(range(1,3))\n",
    "plt.legend(loc=1)\n",
    "plt.show()"
   ]
  },
  {
   "cell_type": "code",
   "execution_count": 56,
   "metadata": {},
   "outputs": [
    {
     "data": {
      "text/html": [
       "<div>\n",
       "<style scoped>\n",
       "    .dataframe tbody tr th:only-of-type {\n",
       "        vertical-align: middle;\n",
       "    }\n",
       "\n",
       "    .dataframe tbody tr th {\n",
       "        vertical-align: top;\n",
       "    }\n",
       "\n",
       "    .dataframe thead th {\n",
       "        text-align: right;\n",
       "    }\n",
       "</style>\n",
       "<table border=\"1\" class=\"dataframe\">\n",
       "  <thead>\n",
       "    <tr style=\"text-align: right;\">\n",
       "      <th></th>\n",
       "      <th>Explained Variance</th>\n",
       "      <th>Valor_Maximo</th>\n",
       "      <th>ABC</th>\n",
       "      <th>Timp_Subida</th>\n",
       "      <th>Timp_Bajada</th>\n",
       "      <th>Timp_Med</th>\n",
       "      <th>Pendiente_Max</th>\n",
       "      <th>Pendiente_Min</th>\n",
       "      <th>Pendiente_Med</th>\n",
       "      <th>Valor_Medio</th>\n",
       "      <th>Desv_est</th>\n",
       "      <th>Asimetria</th>\n",
       "      <th>Curtosis</th>\n",
       "    </tr>\n",
       "  </thead>\n",
       "  <tbody>\n",
       "    <tr>\n",
       "      <th>Dimension 1</th>\n",
       "      <td>0.7218</td>\n",
       "      <td>0.3378</td>\n",
       "      <td>0.3482</td>\n",
       "      <td>-0.2424</td>\n",
       "      <td>0.2404</td>\n",
       "      <td>0.0</td>\n",
       "      <td>0.3242</td>\n",
       "      <td>-0.3256</td>\n",
       "      <td>0.2561</td>\n",
       "      <td>0.3482</td>\n",
       "      <td>0.3439</td>\n",
       "      <td>-0.2434</td>\n",
       "      <td>-0.2695</td>\n",
       "    </tr>\n",
       "    <tr>\n",
       "      <th>Dimension 2</th>\n",
       "      <td>0.1718</td>\n",
       "      <td>-0.1859</td>\n",
       "      <td>-0.0831</td>\n",
       "      <td>-0.4695</td>\n",
       "      <td>0.4710</td>\n",
       "      <td>0.0</td>\n",
       "      <td>-0.2124</td>\n",
       "      <td>0.1841</td>\n",
       "      <td>-0.4075</td>\n",
       "      <td>-0.0834</td>\n",
       "      <td>-0.1444</td>\n",
       "      <td>-0.3878</td>\n",
       "      <td>-0.3050</td>\n",
       "    </tr>\n",
       "  </tbody>\n",
       "</table>\n",
       "</div>"
      ],
      "text/plain": [
       "             Explained Variance  Valor_Maximo     ABC  Timp_Subida  \\\n",
       "Dimension 1              0.7218        0.3378  0.3482      -0.2424   \n",
       "Dimension 2              0.1718       -0.1859 -0.0831      -0.4695   \n",
       "\n",
       "             Timp_Bajada  Timp_Med  Pendiente_Max  Pendiente_Min  \\\n",
       "Dimension 1       0.2404       0.0         0.3242        -0.3256   \n",
       "Dimension 2       0.4710       0.0        -0.2124         0.1841   \n",
       "\n",
       "             Pendiente_Med  Valor_Medio  Desv_est  Asimetria  Curtosis  \n",
       "Dimension 1         0.2561       0.3482    0.3439    -0.2434   -0.2695  \n",
       "Dimension 2        -0.4075      -0.0834   -0.1444    -0.3878   -0.3050  "
      ]
     },
     "execution_count": 56,
     "metadata": {},
     "output_type": "execute_result"
    },
    {
     "data": {
      "image/png": "[encoded data removed]",
      "text/plain": [
       "<Figure size 1400x800 with 1 Axes>"
      ]
     },
     "metadata": {},
     "output_type": "display_data"
    }
   ],
   "source": [
    "vs.pca_results(pd.DataFrame(X_train2,columns=new_data_frame.columns),pca,2)"
   ]
  },
  {
   "cell_type": "code",
   "execution_count": 63,
   "metadata": {},
   "outputs": [
    {
     "name": "stdout",
     "output_type": "stream",
     "text": [
      "MAE: 0.5064022518262516\n",
      "MSE: 0.34340176953824253\n",
      "RMSE: 0.5860049227935227\n",
      "R2: 0.23442294727234225\n",
      "Max_Error: 2.260666666666667\n"
     ]
    }
   ],
   "source": [
    "model_DT = DecisionTreeRegressor(max_depth=4,max_features=None,min_samples_leaf=4,min_samples_split=10) #0.360\n",
    "y_pred = model_DT.fit(id, y_train).predict(X_test2_pca)\n",
    "\n",
    "print(\"MAE:\", mean_absolute_error(y_pred=y_pred,y_true=y_test2))\n",
    "print(\"MSE:\",mean_squared_error(y_pred=y_pred,y_true=y_test2))\n",
    "print(\"RMSE:\",np.sqrt(mean_squared_error(y_pred=y_pred,y_true=y_test2)))\n",
    "print(\"R2:\",r2_score(y_pred=y_pred,y_true=y_test2))\n",
    "print(\"Max_Error:\",max_error(y_pred=y_pred,y_true=y_test2))"
   ]
  },
  {
   "cell_type": "code",
   "execution_count": 65,
   "metadata": {},
   "outputs": [
    {
     "name": "stdout",
     "output_type": "stream",
     "text": [
      "MAE: 0.4820310223996763\n",
      "MSE: 0.3270608690554372\n",
      "RMSE: 0.5718923579271166\n",
      "R2: 0.27085321508186466\n",
      "Max_Error: 2.0447206338564112\n"
     ]
    }
   ],
   "source": [
    "model_RF = RandomForestRegressor(n_estimators=100,max_depth=10,min_samples_split=3,min_samples_leaf=1,max_features='sqrt')\n",
    "y_pred = model_RF.fit(id, y_train).predict(X_test2_pca)\n",
    "\n",
    "print(\"MAE:\", mean_absolute_error(y_pred=y_pred,y_true=y_test2))\n",
    "print(\"MSE:\",mean_squared_error(y_pred=y_pred,y_true=y_test2))\n",
    "print(\"RMSE:\",np.sqrt(mean_squared_error(y_pred=y_pred,y_true=y_test2)))\n",
    "print(\"R2:\",r2_score(y_pred=y_pred,y_true=y_test2))\n",
    "print(\"Max_Error:\",max_error(y_pred=y_pred,y_true=y_test2))"
   ]
  },
  {
   "cell_type": "code",
   "execution_count": 12,
   "metadata": {},
   "outputs": [
    {
     "name": "stdout",
     "output_type": "stream",
     "text": [
      "MAE: 0.4965518390758443\n",
      "MSE: 0.3417878186807662\n",
      "RMSE: 0.5846262213421206\n",
      "R2: 0.2380210759085909\n",
      "Max_Error: 2.3201107370743657\n"
     ]
    }
   ],
   "source": [
    "model_mlp = MLPRegressor(max_iter=1500, hidden_layer_sizes=(100,),activation='relu',learning_rate='adaptive',solver='adam') #0.357\n",
    "y_pred = model_mlp.fit(id, y_train).predict(X_test2_pca)\n",
    "\n",
    "print(\"MAE:\", mean_absolute_error(y_pred=y_pred,y_true=y_test2))\n",
    "print(\"MSE:\",mean_squared_error(y_pred=y_pred,y_true=y_test2))\n",
    "print(\"RMSE:\",np.sqrt(mean_squared_error(y_pred=y_pred,y_true=y_test2)))\n",
    "print(\"R2:\",r2_score(y_pred=y_pred,y_true=y_test2))\n",
    "print(\"Max_Error:\",max_error(y_pred=y_pred,y_true=y_test2))"
   ]
  },
  {
   "cell_type": "code",
   "execution_count": 14,
   "metadata": {},
   "outputs": [
    {
     "name": "stdout",
     "output_type": "stream",
     "text": [
      "MAE: 0.5427116533094679\n",
      "MSE: 0.390235553252632\n",
      "RMSE: 0.6246883649089616\n",
      "R2: 0.1300120988589536\n",
      "Max_Error: 2.6488097759305704\n"
     ]
    }
   ],
   "source": [
    "model_linear = LinearRegression(fit_intercept=True,n_jobs=-1,copy_X=True) #0.391\n",
    "y_pred = model_linear.fit(id, y_train).predict(X_test2_pca)\n",
    "\n",
    "print(\"MAE:\", mean_absolute_error(y_pred=y_pred,y_true=y_test2))\n",
    "print(\"MSE:\",mean_squared_error(y_pred=y_pred,y_true=y_test2))\n",
    "print(\"RMSE:\",np.sqrt(mean_squared_error(y_pred=y_pred,y_true=y_test2)))\n",
    "print(\"R2:\",r2_score(y_pred=y_pred,y_true=y_test2))\n",
    "print(\"Max_Error:\",max_error(y_pred=y_pred,y_true=y_test2))"
   ]
  },
  {
   "cell_type": "code",
   "execution_count": 18,
   "metadata": {},
   "outputs": [
    {
     "name": "stdout",
     "output_type": "stream",
     "text": [
      "MAE: 0.5213097557759823\n",
      "MSE: 0.3452885840740642\n",
      "RMSE: 0.5876126139507765\n",
      "R2: 0.230216498617985\n",
      "Max_Error: 2.1439338590700037\n"
     ]
    }
   ],
   "source": [
    "model_SVR = SVR(kernel='rbf',gamma='auto',C=5,epsilon=0.5,tol=0.1)\n",
    "y_pred = model_SVR.fit(id, y_train).predict(X_test2_pca)\n",
    "\n",
    "print(\"MAE:\", mean_absolute_error(y_pred=y_pred,y_true=y_test2))\n",
    "print(\"MSE:\",mean_squared_error(y_pred=y_pred,y_true=y_test2))\n",
    "print(\"RMSE:\",np.sqrt(mean_squared_error(y_pred=y_pred,y_true=y_test2)))\n",
    "print(\"R2:\",r2_score(y_pred=y_pred,y_true=y_test2))\n",
    "print(\"Max_Error:\",max_error(y_pred=y_pred,y_true=y_test2))"
   ]
  },
  {
   "cell_type": "code",
   "execution_count": 10,
   "metadata": {},
   "outputs": [
    {
     "name": "stderr",
     "output_type": "stream",
     "text": [
      "c:\\Users\\Wilhelm\\miniconda3\\envs\\ML\\Lib\\site-packages\\sklearn\\model_selection\\_validation.py:547: FitFailedWarning: \n",
      "310 fits failed out of a total of 500.\n",
      "The score on these train-test partitions for these parameters will be set to nan.\n",
      "If these failures are not expected, you can try to debug them by setting error_score='raise'.\n",
      "\n",
      "Below are more details about the failures:\n",
      "--------------------------------------------------------------------------------\n",
      "185 fits failed with the following error:\n",
      "Traceback (most recent call last):\n",
      "  File \"c:\\Users\\Wilhelm\\miniconda3\\envs\\ML\\Lib\\site-packages\\sklearn\\model_selection\\_validation.py\", line 895, in _fit_and_score\n",
      "    estimator.fit(X_train, y_train, **fit_params)\n",
      "  File \"c:\\Users\\Wilhelm\\miniconda3\\envs\\ML\\Lib\\site-packages\\sklearn\\base.py\", line 1467, in wrapper\n",
      "    estimator._validate_params()\n",
      "  File \"c:\\Users\\Wilhelm\\miniconda3\\envs\\ML\\Lib\\site-packages\\sklearn\\base.py\", line 666, in _validate_params\n",
      "    validate_parameter_constraints(\n",
      "  File \"c:\\Users\\Wilhelm\\miniconda3\\envs\\ML\\Lib\\site-packages\\sklearn\\utils\\_param_validation.py\", line 95, in validate_parameter_constraints\n",
      "    raise InvalidParameterError(\n",
      "sklearn.utils._param_validation.InvalidParameterError: The 'subsample' parameter of GradientBoostingRegressor must be a float in the range (0.0, 1.0]. Got 3.0 instead.\n",
      "\n",
      "--------------------------------------------------------------------------------\n",
      "125 fits failed with the following error:\n",
      "Traceback (most recent call last):\n",
      "  File \"c:\\Users\\Wilhelm\\miniconda3\\envs\\ML\\Lib\\site-packages\\sklearn\\model_selection\\_validation.py\", line 895, in _fit_and_score\n",
      "    estimator.fit(X_train, y_train, **fit_params)\n",
      "  File \"c:\\Users\\Wilhelm\\miniconda3\\envs\\ML\\Lib\\site-packages\\sklearn\\base.py\", line 1467, in wrapper\n",
      "    estimator._validate_params()\n",
      "  File \"c:\\Users\\Wilhelm\\miniconda3\\envs\\ML\\Lib\\site-packages\\sklearn\\base.py\", line 666, in _validate_params\n",
      "    validate_parameter_constraints(\n",
      "  File \"c:\\Users\\Wilhelm\\miniconda3\\envs\\ML\\Lib\\site-packages\\sklearn\\utils\\_param_validation.py\", line 95, in validate_parameter_constraints\n",
      "    raise InvalidParameterError(\n",
      "sklearn.utils._param_validation.InvalidParameterError: The 'subsample' parameter of GradientBoostingRegressor must be a float in the range (0.0, 1.0]. Got 2.0 instead.\n",
      "\n",
      "  warnings.warn(some_fits_failed_message, FitFailedWarning)\n",
      "c:\\Users\\Wilhelm\\miniconda3\\envs\\ML\\Lib\\site-packages\\sklearn\\model_selection\\_search.py:1051: UserWarning: One or more of the test scores are non-finite: [        nan         nan         nan         nan         nan         nan\n",
      "         nan         nan         nan -0.6674872          nan -0.6320911\n",
      "         nan         nan -0.4399823          nan         nan         nan\n",
      " -0.42357748 -0.45618473         nan -0.41370325         nan         nan\n",
      " -0.45736225         nan         nan -0.38581412         nan         nan\n",
      " -0.70653222         nan         nan         nan -0.67416749         nan\n",
      " -0.39359992         nan         nan         nan         nan -0.43939097\n",
      "         nan         nan         nan         nan -0.4324924          nan\n",
      " -0.65042381 -0.86903069 -0.46132466         nan         nan         nan\n",
      " -0.44749239         nan         nan         nan         nan -0.43439021\n",
      " -0.62538985         nan -0.3509027  -0.35826565 -0.36077669 -0.66550858\n",
      " -0.62515008 -0.8876015          nan -0.35409978         nan         nan\n",
      "         nan -0.38285986 -0.36937195 -0.46060143 -0.94878819         nan\n",
      "         nan         nan -0.45234689         nan -0.44507047 -0.94826337\n",
      "         nan -0.36656168 -0.40933985         nan -0.45647535 -0.45457669\n",
      "         nan         nan -0.61207059         nan         nan         nan\n",
      "         nan         nan         nan         nan]\n",
      "  warnings.warn(\n"
     ]
    },
    {
     "name": "stdout",
     "output_type": "stream",
     "text": [
      "Mejores parámetros: {'subsample': 1.0, 'n_estimators': 300, 'min_samples_split': 2, 'min_samples_leaf': 1, 'max_features': 'log2', 'max_depth': 5, 'loss': 'squared_error', 'learning_rate': 0.01, 'criterion': 'friedman_mse'}\n",
      "Mejor puntaje: 0.35090269982651023\n"
     ]
    }
   ],
   "source": [
    "from sklearn.model_selection import RandomizedSearchCV\n",
    "model_XGBoost = GradientBoostingRegressor()\n",
    "\n",
    "XGBoost_regressor_params = {\n",
    "    'loss': ['squared_error', 'absolute_error', 'huber', 'quantile'],\n",
    "    'learning_rate': [0.01,0.1,1],\n",
    "    'n_estimators': [100,200,300],\n",
    "    'subsample': [0.1,0.5,1],\n",
    "    'criterion': ['friedman_mse', 'squared_error'],\n",
    "    'max_depth': [None, 5, 10, 20],\n",
    "    'min_samples_split': [2, 5, 10],\n",
    "    'min_samples_leaf': [1, 2, 4],\n",
    "    'max_features': [None, 'sqrt', 'log2']\n",
    "}\n",
    "\n",
    "# Realizar la búsqueda de hiperparámetros\n",
    "grid_search_XGBoost = RandomizedSearchCV(model_XGBoost, XGBoost_regressor_params,n_iter=100, cv=5, scoring=MSE_scorer,n_jobs=-1)\n",
    "grid_search_XGBoost.fit(id, y_train)\n",
    "\n",
    "results = grid_search_XGBoost.cv_results_\n",
    "# Mostrar los mejores parámetros y el mejor score\n",
    "print(\"Mejores parámetros:\", grid_search_XGBoost.best_params_)\n",
    "print(\"Mejor puntaje:\", -grid_search_XGBoost.best_score_)"
   ]
  },
  {
   "cell_type": "code",
   "execution_count": null,
   "metadata": {},
   "outputs": [],
   "source": [
    "from scipy.stats import randint as sp_randint\n",
    "from scipy.stats import uniform\n",
    "model = GradientBoostingRegressor()\n",
    "param_dist = {\n",
    "    \"n_estimators\": sp_randint(100, 1000),\n",
    "    \"learning_rate\": uniform(0.01, 0.5),\n",
    "    \"max_depth\": sp_randint(2, 10),\n",
    "    \"min_samples_split\": sp_randint(2, 20),\n",
    "    \"min_samples_leaf\": sp_randint(1, 20),\n",
    "    \"max_features\": sp_randint(1, X.shape[1])\n",
    "}"
   ]
  }
 ],
 "metadata": {
  "kernelspec": {
   "display_name": "ML",
   "language": "python",
   "name": "python3"
  },
  "language_info": {
   "codemirror_mode": {
    "name": "ipython",
    "version": 3
   },
   "file_extension": ".py",
   "mimetype": "text/x-python",
   "name": "python",
   "nbconvert_exporter": "python",
   "pygments_lexer": "ipython3",
   "version": "3.12.2"
  }
 },
 "nbformat": 4,
 "nbformat_minor": 2
}
